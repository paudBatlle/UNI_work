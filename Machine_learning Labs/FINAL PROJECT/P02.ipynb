{
  "cells": [
    {
      "cell_type": "markdown",
      "metadata": {
        "id": "EzfnlG_gKLhF"
      },
      "source": [
        "# <center> Project 02: Application of classification in Marketing and Sales </center>"
      ]
    },
    {
      "cell_type": "markdown",
      "metadata": {
        "id": "jdPg2j8dKLhG"
      },
      "source": [
        "# Seminar goals:\n",
        "In this project, we will develop and apply different supervised classification tecnhiques. These methodologies are broadly used in business to multiple use cases as:\n",
        "- identify **new customers** in the market\n",
        "- identify customers in our internal Data Warehouse with **more likely** to buy a new product\n",
        "- identify unsatisfied customers and thus, likely to be **churners**\n",
        "- classify text into categories for spam identification or to process messages or emails from our customers\n",
        "\n",
        "During this project we will follow the end-to-end Machine Learning process: from data gathering and cleaning, exploratory data analysis, feature engineering and finally, training and prediction. In particular, the main sections of this project are:\n",
        "1. Data understanding and preparation: exploration of the dataset and feature engineering (missing values, outlier identification, categorical variables management) \n",
        "2. Model Training: training the baseline SVM and Decision Trees. Analysis of metrics (recall, precision, confusion metrics) and improvement the classification through several techniques as undersampling to balance or ensemble of models\n",
        "3. Creating a Business opportunity with Machine Learning: selection of the best model and identification of the most important features\n",
        "\n",
        "\n",
        "\n",
        "We will apply all these techniques to identify new customers to capture and improve sales in a **marketing use case**."
      ]
    },
    {
      "cell_type": "markdown",
      "metadata": {
        "id": "UYAFrceqKLhH"
      },
      "source": [
        "### Due date: up to June 17th, 23:55h. \n",
        "### Submission procedure: via Moodle."
      ]
    },
    {
      "cell_type": "markdown",
      "metadata": {
        "id": "-A4_3DZEKLhI"
      },
      "source": [
        "*******"
      ]
    },
    {
      "cell_type": "markdown",
      "metadata": {
        "id": "FZY4NReQKLhI"
      },
      "source": [
        "# 0. Context:  Using Machine Learning to increase our customers base"
      ]
    },
    {
      "cell_type": "code",
      "source": [
        ""
      ],
      "metadata": {
        "id": "qxf9DRmOgTMF"
      },
      "execution_count": null,
      "outputs": []
    },
    {
      "cell_type": "markdown",
      "metadata": {
        "id": "diyA2X3aKLhJ"
      },
      "source": [
        "We work as a head of data science and AI in a new Internet of Things (IoT) company. Our company designs, builds and implements wireless IoT products.\n",
        "\n",
        "Our marketing colleagues are planning to launch a new commercial campaign for capturing new customers. We have to decide which companies are the target to be visited by our sales managers. As the cost to send a sales manager to visit a potential customer is quite high, we have to select from the total market base, those companies that are more likely to buy any of our products and become a new customer. \n",
        "\n",
        "To support this new campaign, we are **using several of the most important classification techniques**. We will manage key evaluation aspects of a classification as **recall, precision, false positive, etc...** to decide which are the best potential customers. \n"
      ]
    },
    {
      "cell_type": "markdown",
      "metadata": {
        "id": "1hxQ0QtwKLhK"
      },
      "source": [
        "## 0.1 Dataset"
      ]
    },
    {
      "cell_type": "markdown",
      "metadata": {
        "id": "uRr4nn5-KLhK"
      },
      "source": [
        "In this practice we are using a new dataset named `market_dt.csv`. This file contains information of **IoT market**, i.e. companies that could be interested to buy IoT products or they have already. In particular, the detailed information for each customer is:\n",
        "- *City*: Name of the city where the company is located\n",
        "- *Customer_Flag*: It is a flag that is 1 for current customers and 0 for non-customers\n",
        "- *Revenue*: The annual incomes of the company\n",
        "- *Sector*: It's an integer that identifies the sector of the company's activity\n",
        "- *CNT_EMPLOYEE*: Number of employees of the company\n",
        "- *CNT_CB_DENSITY*: Number of companies close\n",
        "- *CNT_CB_MOB_DENSITY*: Number of companies with mobile services\n",
        "- *CNT_CB_FN_DENSITY*: Number of companies with fixed services\n",
        "- *Legal_Form_Code*: It's an integer that identifies the legal type of the company: big, small or medium company\n",
        "- *Mobile potential*: It's an estimation of the total annual expense that a company can do in telco services, including IoT"
      ]
    },
    {
      "cell_type": "markdown",
      "metadata": {
        "id": "6U4Sxn_kKLhL"
      },
      "source": [
        "## 0.2. Imports"
      ]
    },
    {
      "cell_type": "code",
      "execution_count": 1,
      "metadata": {
        "id": "t4bx2UI5KLhM"
      },
      "outputs": [],
      "source": [
        "import pandas as pd\n",
        "import numpy as np\n",
        "import matplotlib.pyplot as plt\n",
        "from matplotlib import pyplot\n",
        "import matplotlib.cm as cm\n",
        "import seaborn as sns\n",
        "from scipy.stats import iqr\n",
        "from scipy.stats import chi2_contingency\n",
        "from sklearn.preprocessing import StandardScaler\n",
        "from sklearn.preprocessing import Normalizer\n",
        "from sklearn.preprocessing import MinMaxScaler\n",
        "from sklearn.preprocessing import LabelEncoder\n",
        "from sklearn.model_selection import train_test_split\n",
        "from sklearn.linear_model import SGDClassifier\n",
        "from sklearn.svm import SVC\n",
        "from sklearn.model_selection import train_test_split\n",
        "from sklearn.metrics import accuracy_score, auc, roc_curve, classification_report, confusion_matrix, precision_score, recall_score, precision_recall_curve\n",
        "from sklearn.tree import DecisionTreeClassifier\n",
        "from sklearn.ensemble import RandomForestClassifier, GradientBoostingClassifier, VotingClassifier, AdaBoostClassifier \n",
        "from sklearn.model_selection import KFold\n",
        "from sklearn.model_selection import cross_val_score\n",
        "from sklearn.model_selection import StratifiedKFold"
      ]
    },
    {
      "cell_type": "markdown",
      "metadata": {
        "id": "o7OfXFAoKLhP"
      },
      "source": [
        "# 1. Data understanding and preparation"
      ]
    },
    {
      "cell_type": "markdown",
      "metadata": {
        "id": "T0GEXTMZKLhQ"
      },
      "source": [
        "The first stage in any Machine Learning project is to have a clear understanding of the dataset from a statistical point of view but also from the perspective of the value of their variables to solve the use case or problem. To achieve this goal we need to \"clean\" and \"transform\" the data. All this process is known as **Data Wrangling**. In particular, the whole data wrangling process implies:\n",
        "- Define and apply an strategy for nulls and coding for categorical variables\n",
        "- Analyze the variables distribution and correlation between them\n",
        "- Remove outliers\n",
        "- etc....\n"
      ]
    },
    {
      "cell_type": "markdown",
      "metadata": {
        "id": "tzaVBJ98KLhQ"
      },
      "source": [
        "Let's open the csv with separator \";\" and assign to a dataframe variable (use read_csv from Pandas library). Let's see the top 5 elements."
      ]
    },
    {
      "cell_type": "code",
      "execution_count": 2,
      "metadata": {
        "id": "t7w8v94aKLhR",
        "outputId": "f819b18a-12b5-448b-cbad-0c5cf8601a7e",
        "colab": {
          "base_uri": "https://localhost:8080/",
          "height": 270
        }
      },
      "outputs": [
        {
          "output_type": "execute_result",
          "data": {
            "text/plain": [
              "        City  Customer_Flag     Revenue  Sector  Legal_Form_Code  \\\n",
              "0     Bremen              0  21339309.0    26.0             14.0   \n",
              "1  Steinfurt              0         NaN    74.0              4.0   \n",
              "2  Magdeburg              0         NaN    83.0             28.0   \n",
              "3    Leipzig              0         NaN    61.0             28.0   \n",
              "4       Tamm              0         NaN    74.0              4.0   \n",
              "\n",
              "   CNT_EMPLOYEE  CNT_CB_DENSITY  CNT_CB_MOB_DENSITY  CNT_CB_FN_DENSITY  \\\n",
              "0            25           161.0               154.0               10.0   \n",
              "1            50            41.0                41.0                1.0   \n",
              "2            28           188.0               187.0                6.0   \n",
              "3            12           597.0               594.0               21.0   \n",
              "4            37           336.0               334.0               10.0   \n",
              "\n",
              "   Mobile_potential  \n",
              "0       1783.999887  \n",
              "1       1884.468150  \n",
              "2       1938.651093  \n",
              "3       1602.187431  \n",
              "4       1931.884908  "
            ],
            "text/html": [
              "\n",
              "  <div id=\"df-e3c73149-5933-48bb-aea8-57c656a74324\">\n",
              "    <div class=\"colab-df-container\">\n",
              "      <div>\n",
              "<style scoped>\n",
              "    .dataframe tbody tr th:only-of-type {\n",
              "        vertical-align: middle;\n",
              "    }\n",
              "\n",
              "    .dataframe tbody tr th {\n",
              "        vertical-align: top;\n",
              "    }\n",
              "\n",
              "    .dataframe thead th {\n",
              "        text-align: right;\n",
              "    }\n",
              "</style>\n",
              "<table border=\"1\" class=\"dataframe\">\n",
              "  <thead>\n",
              "    <tr style=\"text-align: right;\">\n",
              "      <th></th>\n",
              "      <th>City</th>\n",
              "      <th>Customer_Flag</th>\n",
              "      <th>Revenue</th>\n",
              "      <th>Sector</th>\n",
              "      <th>Legal_Form_Code</th>\n",
              "      <th>CNT_EMPLOYEE</th>\n",
              "      <th>CNT_CB_DENSITY</th>\n",
              "      <th>CNT_CB_MOB_DENSITY</th>\n",
              "      <th>CNT_CB_FN_DENSITY</th>\n",
              "      <th>Mobile_potential</th>\n",
              "    </tr>\n",
              "  </thead>\n",
              "  <tbody>\n",
              "    <tr>\n",
              "      <th>0</th>\n",
              "      <td>Bremen</td>\n",
              "      <td>0</td>\n",
              "      <td>21339309.0</td>\n",
              "      <td>26.0</td>\n",
              "      <td>14.0</td>\n",
              "      <td>25</td>\n",
              "      <td>161.0</td>\n",
              "      <td>154.0</td>\n",
              "      <td>10.0</td>\n",
              "      <td>1783.999887</td>\n",
              "    </tr>\n",
              "    <tr>\n",
              "      <th>1</th>\n",
              "      <td>Steinfurt</td>\n",
              "      <td>0</td>\n",
              "      <td>NaN</td>\n",
              "      <td>74.0</td>\n",
              "      <td>4.0</td>\n",
              "      <td>50</td>\n",
              "      <td>41.0</td>\n",
              "      <td>41.0</td>\n",
              "      <td>1.0</td>\n",
              "      <td>1884.468150</td>\n",
              "    </tr>\n",
              "    <tr>\n",
              "      <th>2</th>\n",
              "      <td>Magdeburg</td>\n",
              "      <td>0</td>\n",
              "      <td>NaN</td>\n",
              "      <td>83.0</td>\n",
              "      <td>28.0</td>\n",
              "      <td>28</td>\n",
              "      <td>188.0</td>\n",
              "      <td>187.0</td>\n",
              "      <td>6.0</td>\n",
              "      <td>1938.651093</td>\n",
              "    </tr>\n",
              "    <tr>\n",
              "      <th>3</th>\n",
              "      <td>Leipzig</td>\n",
              "      <td>0</td>\n",
              "      <td>NaN</td>\n",
              "      <td>61.0</td>\n",
              "      <td>28.0</td>\n",
              "      <td>12</td>\n",
              "      <td>597.0</td>\n",
              "      <td>594.0</td>\n",
              "      <td>21.0</td>\n",
              "      <td>1602.187431</td>\n",
              "    </tr>\n",
              "    <tr>\n",
              "      <th>4</th>\n",
              "      <td>Tamm</td>\n",
              "      <td>0</td>\n",
              "      <td>NaN</td>\n",
              "      <td>74.0</td>\n",
              "      <td>4.0</td>\n",
              "      <td>37</td>\n",
              "      <td>336.0</td>\n",
              "      <td>334.0</td>\n",
              "      <td>10.0</td>\n",
              "      <td>1931.884908</td>\n",
              "    </tr>\n",
              "  </tbody>\n",
              "</table>\n",
              "</div>\n",
              "      <button class=\"colab-df-convert\" onclick=\"convertToInteractive('df-e3c73149-5933-48bb-aea8-57c656a74324')\"\n",
              "              title=\"Convert this dataframe to an interactive table.\"\n",
              "              style=\"display:none;\">\n",
              "        \n",
              "  <svg xmlns=\"http://www.w3.org/2000/svg\" height=\"24px\"viewBox=\"0 0 24 24\"\n",
              "       width=\"24px\">\n",
              "    <path d=\"M0 0h24v24H0V0z\" fill=\"none\"/>\n",
              "    <path d=\"M18.56 5.44l.94 2.06.94-2.06 2.06-.94-2.06-.94-.94-2.06-.94 2.06-2.06.94zm-11 1L8.5 8.5l.94-2.06 2.06-.94-2.06-.94L8.5 2.5l-.94 2.06-2.06.94zm10 10l.94 2.06.94-2.06 2.06-.94-2.06-.94-.94-2.06-.94 2.06-2.06.94z\"/><path d=\"M17.41 7.96l-1.37-1.37c-.4-.4-.92-.59-1.43-.59-.52 0-1.04.2-1.43.59L10.3 9.45l-7.72 7.72c-.78.78-.78 2.05 0 2.83L4 21.41c.39.39.9.59 1.41.59.51 0 1.02-.2 1.41-.59l7.78-7.78 2.81-2.81c.8-.78.8-2.07 0-2.86zM5.41 20L4 18.59l7.72-7.72 1.47 1.35L5.41 20z\"/>\n",
              "  </svg>\n",
              "      </button>\n",
              "      \n",
              "  <style>\n",
              "    .colab-df-container {\n",
              "      display:flex;\n",
              "      flex-wrap:wrap;\n",
              "      gap: 12px;\n",
              "    }\n",
              "\n",
              "    .colab-df-convert {\n",
              "      background-color: #E8F0FE;\n",
              "      border: none;\n",
              "      border-radius: 50%;\n",
              "      cursor: pointer;\n",
              "      display: none;\n",
              "      fill: #1967D2;\n",
              "      height: 32px;\n",
              "      padding: 0 0 0 0;\n",
              "      width: 32px;\n",
              "    }\n",
              "\n",
              "    .colab-df-convert:hover {\n",
              "      background-color: #E2EBFA;\n",
              "      box-shadow: 0px 1px 2px rgba(60, 64, 67, 0.3), 0px 1px 3px 1px rgba(60, 64, 67, 0.15);\n",
              "      fill: #174EA6;\n",
              "    }\n",
              "\n",
              "    [theme=dark] .colab-df-convert {\n",
              "      background-color: #3B4455;\n",
              "      fill: #D2E3FC;\n",
              "    }\n",
              "\n",
              "    [theme=dark] .colab-df-convert:hover {\n",
              "      background-color: #434B5C;\n",
              "      box-shadow: 0px 1px 3px 1px rgba(0, 0, 0, 0.15);\n",
              "      filter: drop-shadow(0px 1px 2px rgba(0, 0, 0, 0.3));\n",
              "      fill: #FFFFFF;\n",
              "    }\n",
              "  </style>\n",
              "\n",
              "      <script>\n",
              "        const buttonEl =\n",
              "          document.querySelector('#df-e3c73149-5933-48bb-aea8-57c656a74324 button.colab-df-convert');\n",
              "        buttonEl.style.display =\n",
              "          google.colab.kernel.accessAllowed ? 'block' : 'none';\n",
              "\n",
              "        async function convertToInteractive(key) {\n",
              "          const element = document.querySelector('#df-e3c73149-5933-48bb-aea8-57c656a74324');\n",
              "          const dataTable =\n",
              "            await google.colab.kernel.invokeFunction('convertToInteractive',\n",
              "                                                     [key], {});\n",
              "          if (!dataTable) return;\n",
              "\n",
              "          const docLinkHtml = 'Like what you see? Visit the ' +\n",
              "            '<a target=\"_blank\" href=https://colab.research.google.com/notebooks/data_table.ipynb>data table notebook</a>'\n",
              "            + ' to learn more about interactive tables.';\n",
              "          element.innerHTML = '';\n",
              "          dataTable['output_type'] = 'display_data';\n",
              "          await google.colab.output.renderOutput(dataTable, element);\n",
              "          const docLink = document.createElement('div');\n",
              "          docLink.innerHTML = docLinkHtml;\n",
              "          element.appendChild(docLink);\n",
              "        }\n",
              "      </script>\n",
              "    </div>\n",
              "  </div>\n",
              "  "
            ]
          },
          "metadata": {},
          "execution_count": 2
        }
      ],
      "source": [
        "market_dt = pd.read_csv('market_dt.csv', usecols={'City', 'Customer_Flag', 'Revenue', 'Sector', 'CNT_EMPLOYEE',\n",
        "                                                 'CNT_CB_DENSITY', 'CNT_CB_MOB_DENSITY', 'CNT_CB_FN_DENSITY',\n",
        "                                                 'Legal_Form_Code','Mobile_potential'}, sep=\";\")\n",
        "market_dt.head()\n"
      ]
    },
    {
      "cell_type": "markdown",
      "metadata": {
        "id": "osFK9XOAKLhV"
      },
      "source": [
        "[**EX1**] [**REPORT**] Let's identify the type of the variables (integer, float, chart...) and the size of the dataset and the file. Which are the variable with more nulls? And with no nulls? Why 'City' variables is considered as object type?\n",
        "\n",
        "Tip: [.info()](https://www.geeksforgeeks.org/python-pandas-dataframe-info/) is a function that reports the main characteristics of a dataframe."
      ]
    },
    {
      "cell_type": "code",
      "source": [
        "market_dt.info()"
      ],
      "metadata": {
        "colab": {
          "base_uri": "https://localhost:8080/"
        },
        "id": "k_AYLdjchoBa",
        "outputId": "5991ab8a-7fa8-4a6f-bc4f-509f446fa3f5"
      },
      "execution_count": 3,
      "outputs": [
        {
          "output_type": "stream",
          "name": "stdout",
          "text": [
            "<class 'pandas.core.frame.DataFrame'>\n",
            "RangeIndex: 13335 entries, 0 to 13334\n",
            "Data columns (total 10 columns):\n",
            " #   Column              Non-Null Count  Dtype  \n",
            "---  ------              --------------  -----  \n",
            " 0   City                13335 non-null  object \n",
            " 1   Customer_Flag       13335 non-null  int64  \n",
            " 2   Revenue             8589 non-null   float64\n",
            " 3   Sector              13235 non-null  float64\n",
            " 4   Legal_Form_Code     13229 non-null  float64\n",
            " 5   CNT_EMPLOYEE        13335 non-null  int64  \n",
            " 6   CNT_CB_DENSITY      10265 non-null  float64\n",
            " 7   CNT_CB_MOB_DENSITY  10265 non-null  float64\n",
            " 8   CNT_CB_FN_DENSITY   10265 non-null  float64\n",
            " 9   Mobile_potential    13335 non-null  float64\n",
            "dtypes: float64(7), int64(2), object(1)\n",
            "memory usage: 1.0+ MB\n"
          ]
        }
      ]
    },
    {
      "cell_type": "markdown",
      "source": [
        "## **Tenim 13335 valors totals per cada fila, per tant el valor de Null de cada fila és 13335 - nonNull**\n",
        "\n",
        "1.   City: 0 Nulls \n",
        "2.   Customer_Flag: 0 Nulls\n",
        "3.   Revenue: 4746 Nulls\n",
        "4.   Sector: 100 Nulls\n",
        "5.   Legal_Form_Code: 106 Nulls\n",
        "6.   CNT_EMPLOYEE: 0 Nulls\n",
        "7.   CNT_CB_DENSITY: 3070 Nulls\n",
        "8.   CNT_CB_MOB_DENSITY: 3070 Nulls\n",
        "9.   CNT_CB_FN_DENSITY: 3070 Nulls\n",
        "10.   Mobile_potential: 0 Nulls"
      ],
      "metadata": {
        "id": "HxzH8yQXh0A1"
      }
    },
    {
      "cell_type": "markdown",
      "metadata": {
        "id": "rnjxSOlfKLhZ"
      },
      "source": [
        "Once we have the first contact with the dataset, next step is to decide the strategy to apply to **nulls** values. There are several options as removing the rows with any **null**, assigning a constant value (e.g. median or mean value), etc.... In our case, we are removing the rows with **null** in any of the values."
      ]
    },
    {
      "cell_type": "markdown",
      "metadata": {
        "id": "j6WN5zKGKLhZ"
      },
      "source": [
        "[**EX2**] [**CODE**] Eliminate those rows which has nulls in any variable. Let's check that there is no nulls in any variable. Which is the size of the resulting dataset? "
      ]
    },
    {
      "cell_type": "code",
      "source": [
        "market_df = market_dt.dropna()\n",
        "market_df.info()"
      ],
      "metadata": {
        "colab": {
          "base_uri": "https://localhost:8080/"
        },
        "id": "jmI8YP9alupa",
        "outputId": "0dca86b2-c6f2-42d7-f87d-613df1248331"
      },
      "execution_count": 4,
      "outputs": [
        {
          "output_type": "stream",
          "name": "stdout",
          "text": [
            "<class 'pandas.core.frame.DataFrame'>\n",
            "Int64Index: 6987 entries, 0 to 13321\n",
            "Data columns (total 10 columns):\n",
            " #   Column              Non-Null Count  Dtype  \n",
            "---  ------              --------------  -----  \n",
            " 0   City                6987 non-null   object \n",
            " 1   Customer_Flag       6987 non-null   int64  \n",
            " 2   Revenue             6987 non-null   float64\n",
            " 3   Sector              6987 non-null   float64\n",
            " 4   Legal_Form_Code     6987 non-null   float64\n",
            " 5   CNT_EMPLOYEE        6987 non-null   int64  \n",
            " 6   CNT_CB_DENSITY      6987 non-null   float64\n",
            " 7   CNT_CB_MOB_DENSITY  6987 non-null   float64\n",
            " 8   CNT_CB_FN_DENSITY   6987 non-null   float64\n",
            " 9   Mobile_potential    6987 non-null   float64\n",
            "dtypes: float64(7), int64(2), object(1)\n",
            "memory usage: 600.4+ KB\n"
          ]
        }
      ]
    },
    {
      "cell_type": "markdown",
      "metadata": {
        "id": "uR4UCXz6KLhj"
      },
      "source": [
        "In Machine Learning, it is key to analyze the variables from a statistical point of view: knowing the distribution of each variable, their mean and median are key to identify any transformation to apply before training the model. \n",
        "Furthermore, due to we are training a classifier (in our case, to classify between ***customers*** and ***non customers***), this analysis should be done for both classes separetly."
      ]
    },
    {
      "cell_type": "markdown",
      "metadata": {
        "id": "L2r-IQ7OKLhj"
      },
      "source": [
        "[**EX3**] [**REPORT**] Create a `customer_dt`and `noncustomer_dt`datasets based on the `Customer_Flag`variable (`Customer_Flag`=1 for **customers** and 0 for **noncustomers**). Build a boxplot for the `Revenue`, `CNT_EMPLOYEE`, `Mobile_potential` and `CNT_CB_Density` numeric variables for both datasets. Which are the main differences between `customer_dt`and `noncustomer_dt` datasets comparing these variables. Which is the dataset with `CNT_EMPLOYEE` higher? Which datasets have more outliers in `Revenues`? Which is the Q1, median (=Q2) and Q3 for `Revenues`and `Mobile_potential`?\n",
        "\n",
        "\n",
        "Tip: you may have to use the [boxplot](https://matplotlib.org/3.1.1/api/_as_gen/matplotlib.pyplot.boxplot.html) function."
      ]
    },
    {
      "cell_type": "code",
      "source": [
        "customer_dt = market_df.loc[market_df['Customer_Flag'] == 1]\n",
        "noncustomer_dt = market_df.loc[market_df['Customer_Flag'] == 0]"
      ],
      "metadata": {
        "id": "qnGCDVHTmVKo"
      },
      "execution_count": 5,
      "outputs": []
    },
    {
      "cell_type": "code",
      "source": [
        "customer_dt.head()"
      ],
      "metadata": {
        "colab": {
          "base_uri": "https://localhost:8080/",
          "height": 270
        },
        "id": "b37mkD_Mtgcn",
        "outputId": "1098fc7d-7008-4761-a0ca-47be97f791e1"
      },
      "execution_count": 6,
      "outputs": [
        {
          "output_type": "execute_result",
          "data": {
            "text/plain": [
              "            City  Customer_Flag     Revenue  Sector  Legal_Form_Code  \\\n",
              "11548       Haar              1   4000000.0    42.0             14.0   \n",
              "11551    Greding              1  11780000.0    74.0              4.0   \n",
              "11553      Dörth              1   2050000.0    43.0             14.0   \n",
              "11554  Frankfurt              1    853500.0    63.0             14.0   \n",
              "11565  Benningen              1  10680000.0    74.0              4.0   \n",
              "\n",
              "       CNT_EMPLOYEE  CNT_CB_DENSITY  CNT_CB_MOB_DENSITY  CNT_CB_FN_DENSITY  \\\n",
              "11548            13           891.0               867.0               62.0   \n",
              "11551            50             7.0                 7.0                0.0   \n",
              "11553            16            30.0                30.0                1.0   \n",
              "11554            13           870.0               842.0               77.0   \n",
              "11565            16           319.0               317.0               10.0   \n",
              "\n",
              "       Mobile_potential  \n",
              "11548       1778.004205  \n",
              "11551       1899.663564  \n",
              "11553       1655.520125  \n",
              "11554       1548.507315  \n",
              "11565       1746.128813  "
            ],
            "text/html": [
              "\n",
              "  <div id=\"df-2be63deb-e7b0-4d30-9eba-892ce525631c\">\n",
              "    <div class=\"colab-df-container\">\n",
              "      <div>\n",
              "<style scoped>\n",
              "    .dataframe tbody tr th:only-of-type {\n",
              "        vertical-align: middle;\n",
              "    }\n",
              "\n",
              "    .dataframe tbody tr th {\n",
              "        vertical-align: top;\n",
              "    }\n",
              "\n",
              "    .dataframe thead th {\n",
              "        text-align: right;\n",
              "    }\n",
              "</style>\n",
              "<table border=\"1\" class=\"dataframe\">\n",
              "  <thead>\n",
              "    <tr style=\"text-align: right;\">\n",
              "      <th></th>\n",
              "      <th>City</th>\n",
              "      <th>Customer_Flag</th>\n",
              "      <th>Revenue</th>\n",
              "      <th>Sector</th>\n",
              "      <th>Legal_Form_Code</th>\n",
              "      <th>CNT_EMPLOYEE</th>\n",
              "      <th>CNT_CB_DENSITY</th>\n",
              "      <th>CNT_CB_MOB_DENSITY</th>\n",
              "      <th>CNT_CB_FN_DENSITY</th>\n",
              "      <th>Mobile_potential</th>\n",
              "    </tr>\n",
              "  </thead>\n",
              "  <tbody>\n",
              "    <tr>\n",
              "      <th>11548</th>\n",
              "      <td>Haar</td>\n",
              "      <td>1</td>\n",
              "      <td>4000000.0</td>\n",
              "      <td>42.0</td>\n",
              "      <td>14.0</td>\n",
              "      <td>13</td>\n",
              "      <td>891.0</td>\n",
              "      <td>867.0</td>\n",
              "      <td>62.0</td>\n",
              "      <td>1778.004205</td>\n",
              "    </tr>\n",
              "    <tr>\n",
              "      <th>11551</th>\n",
              "      <td>Greding</td>\n",
              "      <td>1</td>\n",
              "      <td>11780000.0</td>\n",
              "      <td>74.0</td>\n",
              "      <td>4.0</td>\n",
              "      <td>50</td>\n",
              "      <td>7.0</td>\n",
              "      <td>7.0</td>\n",
              "      <td>0.0</td>\n",
              "      <td>1899.663564</td>\n",
              "    </tr>\n",
              "    <tr>\n",
              "      <th>11553</th>\n",
              "      <td>Dörth</td>\n",
              "      <td>1</td>\n",
              "      <td>2050000.0</td>\n",
              "      <td>43.0</td>\n",
              "      <td>14.0</td>\n",
              "      <td>16</td>\n",
              "      <td>30.0</td>\n",
              "      <td>30.0</td>\n",
              "      <td>1.0</td>\n",
              "      <td>1655.520125</td>\n",
              "    </tr>\n",
              "    <tr>\n",
              "      <th>11554</th>\n",
              "      <td>Frankfurt</td>\n",
              "      <td>1</td>\n",
              "      <td>853500.0</td>\n",
              "      <td>63.0</td>\n",
              "      <td>14.0</td>\n",
              "      <td>13</td>\n",
              "      <td>870.0</td>\n",
              "      <td>842.0</td>\n",
              "      <td>77.0</td>\n",
              "      <td>1548.507315</td>\n",
              "    </tr>\n",
              "    <tr>\n",
              "      <th>11565</th>\n",
              "      <td>Benningen</td>\n",
              "      <td>1</td>\n",
              "      <td>10680000.0</td>\n",
              "      <td>74.0</td>\n",
              "      <td>4.0</td>\n",
              "      <td>16</td>\n",
              "      <td>319.0</td>\n",
              "      <td>317.0</td>\n",
              "      <td>10.0</td>\n",
              "      <td>1746.128813</td>\n",
              "    </tr>\n",
              "  </tbody>\n",
              "</table>\n",
              "</div>\n",
              "      <button class=\"colab-df-convert\" onclick=\"convertToInteractive('df-2be63deb-e7b0-4d30-9eba-892ce525631c')\"\n",
              "              title=\"Convert this dataframe to an interactive table.\"\n",
              "              style=\"display:none;\">\n",
              "        \n",
              "  <svg xmlns=\"http://www.w3.org/2000/svg\" height=\"24px\"viewBox=\"0 0 24 24\"\n",
              "       width=\"24px\">\n",
              "    <path d=\"M0 0h24v24H0V0z\" fill=\"none\"/>\n",
              "    <path d=\"M18.56 5.44l.94 2.06.94-2.06 2.06-.94-2.06-.94-.94-2.06-.94 2.06-2.06.94zm-11 1L8.5 8.5l.94-2.06 2.06-.94-2.06-.94L8.5 2.5l-.94 2.06-2.06.94zm10 10l.94 2.06.94-2.06 2.06-.94-2.06-.94-.94-2.06-.94 2.06-2.06.94z\"/><path d=\"M17.41 7.96l-1.37-1.37c-.4-.4-.92-.59-1.43-.59-.52 0-1.04.2-1.43.59L10.3 9.45l-7.72 7.72c-.78.78-.78 2.05 0 2.83L4 21.41c.39.39.9.59 1.41.59.51 0 1.02-.2 1.41-.59l7.78-7.78 2.81-2.81c.8-.78.8-2.07 0-2.86zM5.41 20L4 18.59l7.72-7.72 1.47 1.35L5.41 20z\"/>\n",
              "  </svg>\n",
              "      </button>\n",
              "      \n",
              "  <style>\n",
              "    .colab-df-container {\n",
              "      display:flex;\n",
              "      flex-wrap:wrap;\n",
              "      gap: 12px;\n",
              "    }\n",
              "\n",
              "    .colab-df-convert {\n",
              "      background-color: #E8F0FE;\n",
              "      border: none;\n",
              "      border-radius: 50%;\n",
              "      cursor: pointer;\n",
              "      display: none;\n",
              "      fill: #1967D2;\n",
              "      height: 32px;\n",
              "      padding: 0 0 0 0;\n",
              "      width: 32px;\n",
              "    }\n",
              "\n",
              "    .colab-df-convert:hover {\n",
              "      background-color: #E2EBFA;\n",
              "      box-shadow: 0px 1px 2px rgba(60, 64, 67, 0.3), 0px 1px 3px 1px rgba(60, 64, 67, 0.15);\n",
              "      fill: #174EA6;\n",
              "    }\n",
              "\n",
              "    [theme=dark] .colab-df-convert {\n",
              "      background-color: #3B4455;\n",
              "      fill: #D2E3FC;\n",
              "    }\n",
              "\n",
              "    [theme=dark] .colab-df-convert:hover {\n",
              "      background-color: #434B5C;\n",
              "      box-shadow: 0px 1px 3px 1px rgba(0, 0, 0, 0.15);\n",
              "      filter: drop-shadow(0px 1px 2px rgba(0, 0, 0, 0.3));\n",
              "      fill: #FFFFFF;\n",
              "    }\n",
              "  </style>\n",
              "\n",
              "      <script>\n",
              "        const buttonEl =\n",
              "          document.querySelector('#df-2be63deb-e7b0-4d30-9eba-892ce525631c button.colab-df-convert');\n",
              "        buttonEl.style.display =\n",
              "          google.colab.kernel.accessAllowed ? 'block' : 'none';\n",
              "\n",
              "        async function convertToInteractive(key) {\n",
              "          const element = document.querySelector('#df-2be63deb-e7b0-4d30-9eba-892ce525631c');\n",
              "          const dataTable =\n",
              "            await google.colab.kernel.invokeFunction('convertToInteractive',\n",
              "                                                     [key], {});\n",
              "          if (!dataTable) return;\n",
              "\n",
              "          const docLinkHtml = 'Like what you see? Visit the ' +\n",
              "            '<a target=\"_blank\" href=https://colab.research.google.com/notebooks/data_table.ipynb>data table notebook</a>'\n",
              "            + ' to learn more about interactive tables.';\n",
              "          element.innerHTML = '';\n",
              "          dataTable['output_type'] = 'display_data';\n",
              "          await google.colab.output.renderOutput(dataTable, element);\n",
              "          const docLink = document.createElement('div');\n",
              "          docLink.innerHTML = docLinkHtml;\n",
              "          element.appendChild(docLink);\n",
              "        }\n",
              "      </script>\n",
              "    </div>\n",
              "  </div>\n",
              "  "
            ]
          },
          "metadata": {},
          "execution_count": 6
        }
      ]
    },
    {
      "cell_type": "code",
      "source": [
        "print( 'Revenue')\n",
        "fig1, ax1 = plt.subplots()\n",
        "fig2, ax2 = plt.subplots()\n",
        "ax1.boxplot(customer_dt['Revenue']),ax2.boxplot(noncustomer_dt['Revenue'])\n",
        "pyplot.show()\n",
        "\n",
        "print( 'CNT_EMPLOYEE')\n",
        "fig1, ax1 = plt.subplots()\n",
        "fig2, ax2 = plt.subplots()\n",
        "ax1.boxplot(customer_dt['CNT_EMPLOYEE']),ax2.boxplot(noncustomer_dt['CNT_EMPLOYEE'])\n",
        "pyplot.show()\n",
        "\n",
        "print( 'Mobile_potential')\n",
        "fig1, ax1 = plt.subplots()\n",
        "fig2, ax2 = plt.subplots()\n",
        "ax1.boxplot(customer_dt['Mobile_potential']),ax2.boxplot(noncustomer_dt['Mobile_potential'])\n",
        "pyplot.show()\n",
        "\n",
        "print( 'CNT_CB_DENSITY')\n",
        "fig1, ax1 = plt.subplots()\n",
        "fig2, ax2 = plt.subplots()\n",
        "ax1.boxplot(customer_dt['CNT_CB_DENSITY']),ax2.boxplot(noncustomer_dt['CNT_CB_DENSITY'])\n",
        "pyplot.show()\n"
      ],
      "metadata": {
        "id": "FeW6EzChs-D6",
        "colab": {
          "base_uri": "https://localhost:8080/",
          "height": 1000
        },
        "outputId": "cda63511-d6af-46d6-d5b8-bb93a662d50d"
      },
      "execution_count": 7,
      "outputs": [
        {
          "output_type": "stream",
          "name": "stdout",
          "text": [
            "Revenue\n"
          ]
        },
        {
          "output_type": "display_data",
          "data": {
            "text/plain": [
              "<Figure size 432x288 with 1 Axes>"
            ],
            "image/png": "[encoded data removed]"
          },
          "metadata": {
            "needs_background": "light"
          }
        },
        {
          "output_type": "display_data",
          "data": {
            "text/plain": [
              "<Figure size 432x288 with 1 Axes>"
            ],
            "image/png": "[encoded data removed]"
          },
          "metadata": {
            "needs_background": "light"
          }
        },
        {
          "output_type": "stream",
          "name": "stdout",
          "text": [
            "CNT_EMPLOYEE\n"
          ]
        },
        {
          "output_type": "display_data",
          "data": {
            "text/plain": [
              "<Figure size 432x288 with 1 Axes>"
            ],
            "image/png": "[encoded data removed]"
          },
          "metadata": {
            "needs_background": "light"
          }
        },
        {
          "output_type": "display_data",
          "data": {
            "text/plain": [
              "<Figure size 432x288 with 1 Axes>"
            ],
            "image/png": "[encoded data removed]"
          },
          "metadata": {
            "needs_background": "light"
          }
        },
        {
          "output_type": "stream",
          "name": "stdout",
          "text": [
            "Mobile_potential\n"
          ]
        },
        {
          "output_type": "display_data",
          "data": {
            "text/plain": [
              "<Figure size 432x288 with 1 Axes>"
            ],
            "image/png": "[encoded data removed]"
          },
          "metadata": {
            "needs_background": "light"
          }
        },
        {
          "output_type": "display_data",
          "data": {
            "text/plain": [
              "<Figure size 432x288 with 1 Axes>"
            ],
            "image/png": "[encoded data removed]"
          },
          "metadata": {
            "needs_background": "light"
          }
        },
        {
          "output_type": "stream",
          "name": "stdout",
          "text": [
            "CNT_CB_DENSITY\n"
          ]
        },
        {
          "output_type": "display_data",
          "data": {
            "text/plain": [
              "<Figure size 432x288 with 1 Axes>"
            ],
            "image/png": "[encoded data removed]"
          },
          "metadata": {
            "needs_background": "light"
          }
        },
        {
          "output_type": "display_data",
          "data": {
            "text/plain": [
              "<Figure size 432x288 with 1 Axes>"
            ],
            "image/png": "[encoded data removed]"
          },
          "metadata": {
            "needs_background": "light"
          }
        }
      ]
    },
    {
      "cell_type": "markdown",
      "metadata": {
        "id": "P4LaqjUyKLhm"
      },
      "source": [
        "As we observe from the boxplots, some of them present outliers. There are several mechanisms to eliminate outliers. One option is to eliminate the values higher than a statistical value for each numerical variable."
      ]
    },
    {
      "cell_type": "code",
      "source": [
        "outliers_df = 0\n",
        "outliers_nondf = 0\n",
        "#------REVENUE-----------------------------------------------------------------------\n",
        "#CUSTOMER \n",
        "Q1_revenue = np.percentile(customer_dt['Revenue'],25)\n",
        "Q3_revenue = np.percentile(customer_dt['Revenue'],75)\n",
        "IQR_revenue = Q3_revenue - Q1_revenue\n",
        "revenue_median = np.percentile(customer_dt['Revenue'],50)\n",
        "\n",
        "print('Customer Revenue Q1: ',Q1_revenue )\n",
        "print('Customer Revenue Median: ', revenue_median )\n",
        "print('Customer Revenue Q3: ',Q3_revenue )\n",
        "\n",
        "for i in customer_dt['Revenue']:\n",
        "    if i > Q3_revenue:\n",
        "        outliers_df = outliers_df+1\n",
        "print('Outliers in Customer Revenue: ',outliers_df)\n",
        "#NONCUSTOMER\n",
        "Q1_revenue_non = np.percentile(noncustomer_dt['Revenue'],25)\n",
        "Q3_revenue_non = np.percentile(noncustomer_dt['Revenue'],75)\n",
        "IQR_revenue_non = Q3_revenue_non - Q1_revenue_non\n",
        "revenue_median_non = np.percentile(noncustomer_dt['Revenue'],50)\n",
        "\n",
        "print('Non Customer Revenue Q1: ',Q1_revenue_non )\n",
        "print('Non Customer Revenue Median: ', revenue_median_non )\n",
        "print('Non Customer Revenue Q3: ',Q3_revenue_non )\n",
        "\n",
        "for i in noncustomer_dt['Revenue']:\n",
        "    if i > Q3_revenue_non:\n",
        "        outliers_nondf = outliers_nondf+1\n",
        "print('Outliers in Non Customer Revenue: ',outliers_nondf)\n",
        "\n",
        "#--------CNT_EMPLOYEE----------------------------------------------------------------\n",
        "#CUSTOMER\n",
        "Q1_CNT_EMPLOYEE = np.percentile(customer_dt['CNT_EMPLOYEE'],25)\n",
        "Q3_CNT_EMPLOYEE = np.percentile(customer_dt['CNT_EMPLOYEE'],75)\n",
        "IQR_CNT_EMPLOYEE = Q3_CNT_EMPLOYEE - Q1_CNT_EMPLOYEE\n",
        "print(Q3_CNT_EMPLOYEE)\n",
        "#NONCUSTOMER\n",
        "Q1_CNT_EMPLOYEE_non = np.percentile(noncustomer_dt['CNT_EMPLOYEE'],25)\n",
        "Q3_CNT_EMPLOYEE_non = np.percentile(noncustomer_dt['CNT_EMPLOYEE'],75)\n",
        "IQR_CNT_EMPLOYEE_non = Q3_CNT_EMPLOYEE - Q1_CNT_EMPLOYEE\n",
        "print(Q3_CNT_EMPLOYEE_non)\n",
        "\n",
        "#--------Mobile_potential--------------------------------------------------------------\n",
        "#CUSTOMER\n",
        "Q1_Mobile_potential = np.percentile(customer_dt['Mobile_potential'],25)\n",
        "Q3_Mobile_potential = np.percentile(customer_dt['Mobile_potential'],75)\n",
        "IQR_Mobile_potential = Q3_Mobile_potential - Q1_Mobile_potential\n",
        "\n",
        "Mobile_potential_median = np.percentile(customer_dt['Mobile_potential'],50)\n",
        "print('Customer Mobile_potential Q1: ',Q1_Mobile_potential )\n",
        "print('Customer Mobile_potential Median: ', Mobile_potential_median )\n",
        "print('Customer Mobile_potential Q3: ',Q3_Mobile_potential )\n",
        "#NONCUSTOMER\n",
        "Q1_Mobile_potential_non = np.percentile(noncustomer_dt['Mobile_potential'],25)\n",
        "Q3_Mobile_potential_non = np.percentile(noncustomer_dt['Mobile_potential'],75)\n",
        "IQR_Mobile_potential_non = Q3_Mobile_potential_non - Q1_Mobile_potential_non\n",
        "\n",
        "Mobile_potential_median_non = np.percentile(noncustomer_dt['Mobile_potential'],50)\n",
        "print('Non Customer Mobile_potential Q1: ',Q1_Mobile_potential_non )\n",
        "print('Non Customer Mobile_potential Median: ', Mobile_potential_median_non )\n",
        "print('Non Customer Mobile_potential Q3: ',Q3_Mobile_potential_non )\n",
        "\n",
        "#---------CNT_CB_DENSITY-------------------------------------------------------------\n",
        "#CUSTOMER\n",
        "Q1_CNT_CB_DENSITY = np.percentile(customer_dt['CNT_CB_DENSITY'],25)\n",
        "Q3_CNT_CB_DENSITY = np.percentile(noncustomer_dt['CNT_CB_DENSITY'],75)\n",
        "IQR_CNT_CB_DENSITY = Q3_CNT_CB_DENSITY - Q1_CNT_CB_DENSITY\n",
        "#NONCUSTOMER\n",
        "Q1_CNT_CB_DENSITY_non = np.percentile(noncustomer_dt['CNT_CB_DENSITY'],25)\n",
        "Q3_CNT_CB_DENSITY_non = np.percentile(noncustomer_dt['CNT_CB_DENSITY'],75)\n",
        "IQR_CNT_CB_DENSITY_non = Q3_CNT_CB_DENSITY_non - Q1_CNT_CB_DENSITY_non\n",
        "\n",
        "#---------CNT_CB_FN_DENSITY-------------------------------------------------------------\n",
        "#CUSTOMER\n",
        "Q1_CNT_CB_FN_DENSITY = np.percentile(customer_dt['CNT_CB_FN_DENSITY'],25)\n",
        "Q3_CNT_CB_FN_DENSITY = np.percentile(customer_dt['CNT_CB_FN_DENSITY'],75)\n",
        "IQR_CNT_CB_FN_DENSITY = Q3_CNT_CB_FN_DENSITY - Q1_CNT_CB_FN_DENSITY\n",
        "#NONCUSTOMER\n",
        "Q1_CNT_CB_FN_DENSITY_non = np.percentile(noncustomer_dt['CNT_CB_FN_DENSITY'],25)\n",
        "Q3_CNT_CB_FN_DENSITY_non = np.percentile(noncustomer_dt['CNT_CB_FN_DENSITY'],75)\n",
        "IQR_CNT_CB_FN_DENSITY_non = Q3_CNT_CB_FN_DENSITY_non - Q1_CNT_CB_FN_DENSITY_non\n",
        "\n",
        "#--------CNT_EMPLOYEE----------------------------------------------------------------\n",
        "#CUSTOMER\n",
        "Q1_CNT_CB_MOB_DENSITY = np.percentile(customer_dt['CNT_CB_MOB_DENSITY'],25)\n",
        "Q3_CNT_CB_MOB_DENSITY = np.percentile(customer_dt['CNT_CB_MOB_DENSITY'],75)\n",
        "IQR_CNT_CB_MOB_DENSITY = Q3_CNT_CB_MOB_DENSITY - Q1_CNT_CB_MOB_DENSITY\n",
        "#NONCUSTOMER\n",
        "Q1_CNT_CB_MOB_DENSITY_non = np.percentile(noncustomer_dt['CNT_CB_MOB_DENSITY'],25)\n",
        "Q3_CNT_CB_MOB_DENSITY_non = np.percentile(noncustomer_dt['CNT_CB_MOB_DENSITY'],75)\n",
        "IQR_CNT_CB_MOB_DENSITY_non = Q3_CNT_CB_MOB_DENSITY_non - Q1_CNT_CB_MOB_DENSITY_non\n"
      ],
      "metadata": {
        "colab": {
          "base_uri": "https://localhost:8080/"
        },
        "id": "mdsPswXzguyF",
        "outputId": "39f6c686-9ece-4500-ab25-6398aa535192"
      },
      "execution_count": 8,
      "outputs": [
        {
          "output_type": "stream",
          "name": "stdout",
          "text": [
            "Customer Revenue Q1:  1047500.0\n",
            "Customer Revenue Median:  2200000.0\n",
            "Customer Revenue Q3:  4195000.0\n",
            "Outliers in Customer Revenue:  278\n",
            "Non Customer Revenue Q1:  902986.0\n",
            "Non Customer Revenue Median:  1750000.0\n",
            "Non Customer Revenue Q3:  3501123.5\n",
            "Outliers in Non Customer Revenue:  1469\n",
            "31.0\n",
            "27.0\n",
            "Customer Mobile_potential Q1:  1621.0556861314792\n",
            "Customer Mobile_potential Median:  1948.4376609395997\n",
            "Customer Mobile_potential Q3:  2116.47407406108\n",
            "Non Customer Mobile_potential Q1:  1513.3835966627996\n",
            "Non Customer Mobile_potential Median:  1797.0542780039395\n",
            "Non Customer Mobile_potential Q3:  2035.08284022468\n"
          ]
        }
      ]
    },
    {
      "cell_type": "markdown",
      "metadata": {
        "id": "puFRcL_-KLhn"
      },
      "source": [
        "[**EX4**] [**CODE**] Remove the values higher than 5* IQR for each variable: `Revenue`, `CNT_EMPLOYEE`, `Mobile_potential`, `CNT_CB_DENSITY`, `CNT_CB_MOB_DENSITY`and `CNT_CB_FN_DENSITY`. Compare with the boxplot of the previous exercise [**EX3**] and explain the differences."
      ]
    },
    {
      "cell_type": "code",
      "source": [
        " \n",
        "customer_dt = customer_dt.loc[customer_dt['Revenue'] <= 5*IQR_revenue]\n",
        "noncustomer_dt = noncustomer_dt.loc[noncustomer_dt['Revenue'] <= 5*IQR_revenue_non]\n",
        "\n",
        "customer_dt = customer_dt.loc[customer_dt['CNT_EMPLOYEE'] <= 5*IQR_CNT_EMPLOYEE]\n",
        "noncustomer_dt = noncustomer_dt.loc[noncustomer_dt['CNT_EMPLOYEE'] <= 5*IQR_CNT_EMPLOYEE_non]\n",
        "\n",
        "customer_dt = customer_dt.loc[customer_dt['Mobile_potential'] <= 5*IQR_Mobile_potential]\n",
        "noncustomer_dt = noncustomer_dt.loc[noncustomer_dt['Mobile_potential'] <= 5*IQR_Mobile_potential_non]\n",
        "\n",
        "customer_dt = customer_dt.loc[customer_dt['CNT_CB_DENSITY'] <= 5*IQR_CNT_CB_DENSITY]\n",
        "noncustomer_dt = noncustomer_dt.loc[noncustomer_dt['CNT_CB_DENSITY'] <= 5*IQR_CNT_CB_DENSITY_non]\n",
        "\n",
        "customer_dt = customer_dt.loc[customer_dt['CNT_CB_MOB_DENSITY'] <= 5*IQR_CNT_CB_MOB_DENSITY]\n",
        "noncustomer_dt = noncustomer_dt.loc[noncustomer_dt['CNT_CB_MOB_DENSITY'] <= 5*IQR_CNT_CB_MOB_DENSITY_non]\n",
        "\n",
        "customer_dt = customer_dt.loc[customer_dt['CNT_CB_FN_DENSITY'] <= 5*IQR_CNT_CB_FN_DENSITY]\n",
        "noncustomer_dt = noncustomer_dt.loc[noncustomer_dt['CNT_CB_FN_DENSITY'] <= 5*IQR_CNT_CB_FN_DENSITY_non]\n",
        "\n",
        "customer_dt.info()\n",
        "noncustomer_dt.info()\n",
        "\n",
        "print( 'Revenue')\n",
        "fig1, ax1 = plt.subplots()\n",
        "fig2, ax2 = plt.subplots()\n",
        "ax1.boxplot(customer_dt['Revenue']),ax2.boxplot(noncustomer_dt['Revenue'])\n",
        "pyplot.show()\n",
        "\n"
      ],
      "metadata": {
        "id": "-oYvlPubqw9r",
        "colab": {
          "base_uri": "https://localhost:8080/",
          "height": 1000
        },
        "outputId": "3ce2a2fe-9b3e-4058-a72b-918b4cb635c6"
      },
      "execution_count": 9,
      "outputs": [
        {
          "output_type": "stream",
          "name": "stdout",
          "text": [
            "<class 'pandas.core.frame.DataFrame'>\n",
            "Int64Index: 822 entries, 11548 to 13321\n",
            "Data columns (total 10 columns):\n",
            " #   Column              Non-Null Count  Dtype  \n",
            "---  ------              --------------  -----  \n",
            " 0   City                822 non-null    object \n",
            " 1   Customer_Flag       822 non-null    int64  \n",
            " 2   Revenue             822 non-null    float64\n",
            " 3   Sector              822 non-null    float64\n",
            " 4   Legal_Form_Code     822 non-null    float64\n",
            " 5   CNT_EMPLOYEE        822 non-null    int64  \n",
            " 6   CNT_CB_DENSITY      822 non-null    float64\n",
            " 7   CNT_CB_MOB_DENSITY  822 non-null    float64\n",
            " 8   CNT_CB_FN_DENSITY   822 non-null    float64\n",
            " 9   Mobile_potential    822 non-null    float64\n",
            "dtypes: float64(7), int64(2), object(1)\n",
            "memory usage: 70.6+ KB\n",
            "<class 'pandas.core.frame.DataFrame'>\n",
            "Int64Index: 4833 entries, 5 to 11546\n",
            "Data columns (total 10 columns):\n",
            " #   Column              Non-Null Count  Dtype  \n",
            "---  ------              --------------  -----  \n",
            " 0   City                4833 non-null   object \n",
            " 1   Customer_Flag       4833 non-null   int64  \n",
            " 2   Revenue             4833 non-null   float64\n",
            " 3   Sector              4833 non-null   float64\n",
            " 4   Legal_Form_Code     4833 non-null   float64\n",
            " 5   CNT_EMPLOYEE        4833 non-null   int64  \n",
            " 6   CNT_CB_DENSITY      4833 non-null   float64\n",
            " 7   CNT_CB_MOB_DENSITY  4833 non-null   float64\n",
            " 8   CNT_CB_FN_DENSITY   4833 non-null   float64\n",
            " 9   Mobile_potential    4833 non-null   float64\n",
            "dtypes: float64(7), int64(2), object(1)\n",
            "memory usage: 415.3+ KB\n",
            "Revenue\n"
          ]
        },
        {
          "output_type": "display_data",
          "data": {
            "text/plain": [
              "<Figure size 432x288 with 1 Axes>"
            ],
            "image/png": "[encoded data removed]"
          },
          "metadata": {
            "needs_background": "light"
          }
        },
        {
          "output_type": "display_data",
          "data": {
            "text/plain": [
              "<Figure size 432x288 with 1 Axes>"
            ],
            "image/png": "[encoded data removed]"
          },
          "metadata": {
            "needs_background": "light"
          }
        }
      ]
    },
    {
      "cell_type": "markdown",
      "source": [
        "Les diferències entre els boxplot de l'exercici anterior i el actual és que la majoria dels outliers s'han eliminat i el rang dentre els cuals es troben les variables d'ha minimitzat. Al eliminar variables els quartils i la mediana han augmentat ja que no es basen en una formula matemàtica sino en la posició dels numeros."
      ],
      "metadata": {
        "id": "tluUICXrwW4h"
      }
    },
    {
      "cell_type": "markdown",
      "metadata": {
        "id": "QT-ULfjoKLhv"
      },
      "source": [
        "On the other hand, before applying any classification algorithm, it is necessary to transform non-numerical variables. The most common transformations are **coding as integer** or **coding as dummies**. Before deciding the mechanism it is important to analyze, for each categorical variable, their number of different values and their frequencies. In case of high number of possible values in comparision with the size of the dataset, **dummy** transformation could generate sparse matrix."
      ]
    },
    {
      "cell_type": "markdown",
      "metadata": {
        "id": "TfWf0K_-KLhv"
      },
      "source": [
        "[**EX5**] [**REPORT**] Calculate the ratio of the values of `City` for `customer_dt` and `noncustomer_dt` datasets. Compare the ratio of each category of each dataset."
      ]
    },
    {
      "cell_type": "code",
      "source": [
        "#City\n",
        "cities_customer = []\n",
        "for city in customer_dt['City']:\n",
        "    if city not in cities_customer:\n",
        "        cities_customer.append(city)\n",
        "\n",
        "cities_noncustomer = []\n",
        "for city in noncustomer_dt['City']:\n",
        "    if city not in cities_noncustomer:\n",
        "        cities_noncustomer.append(city)\n",
        "\n",
        "print(len(cities_customer),'diferent cities in customer')\n",
        "print(len(cities_noncustomer),'diferent cities in noncustomer')\n",
        "\n",
        "ratio_customer = len(cities_customer)/len(customer_dt['City'])\n",
        "ratio_noncustomer = len(cities_noncustomer)/len(noncustomer_dt['City'])\n",
        "\n",
        "print ('ratio customer city: ',ratio_customer,'ratio noncustomer city: ',ratio_noncustomer)"
      ],
      "metadata": {
        "colab": {
          "base_uri": "https://localhost:8080/"
        },
        "id": "y3QxvgPEvDmG",
        "outputId": "ad3743f7-7f70-42b3-ccd2-bc585563db0b"
      },
      "execution_count": 10,
      "outputs": [
        {
          "output_type": "stream",
          "name": "stdout",
          "text": [
            "503 diferent cities in customer\n",
            "2110 diferent cities in noncustomer\n",
            "ratio customer city:  0.6119221411192214 ratio noncustomer city:  0.4365818332298779\n"
          ]
        }
      ]
    },
    {
      "cell_type": "markdown",
      "metadata": {
        "id": "0bCyWWPTKLhy"
      },
      "source": [
        "As the number of distinct values is high, we will apply a **integer** encoding through the LabelEncoder() transformation as follows:"
      ]
    },
    {
      "cell_type": "code",
      "execution_count": 11,
      "metadata": {
        "id": "d3cN00r-KLhz"
      },
      "outputs": [],
      "source": [
        "City_Categ=customer_dt['City'].append(noncustomer_dt['City'])"
      ]
    },
    {
      "cell_type": "code",
      "execution_count": 12,
      "metadata": {
        "id": "9fKR-_uXKLh2"
      },
      "outputs": [],
      "source": [
        "city_encoder=LabelEncoder()\n",
        "city_encoder.fit(City_Categ.values)\n",
        "customer_dt['City_coded']=city_encoder.transform(customer_dt['City'].values)\n",
        "noncustomer_dt['City_coded']=city_encoder.transform(noncustomer_dt['City'].values)"
      ]
    },
    {
      "cell_type": "code",
      "execution_count": 13,
      "metadata": {
        "id": "azGmQ302KLh4",
        "outputId": "1b59a9dd-82e2-41ef-ffcd-261c31a35728",
        "colab": {
          "base_uri": "https://localhost:8080/",
          "height": 270
        }
      },
      "outputs": [
        {
          "output_type": "execute_result",
          "data": {
            "text/plain": [
              "            City  Customer_Flag     Revenue  Sector  Legal_Form_Code  \\\n",
              "11548       Haar              1   4000000.0    42.0             14.0   \n",
              "11551    Greding              1  11780000.0    74.0              4.0   \n",
              "11553      Dörth              1   2050000.0    43.0             14.0   \n",
              "11554  Frankfurt              1    853500.0    63.0             14.0   \n",
              "11565  Benningen              1  10680000.0    74.0              4.0   \n",
              "\n",
              "       CNT_EMPLOYEE  CNT_CB_DENSITY  CNT_CB_MOB_DENSITY  CNT_CB_FN_DENSITY  \\\n",
              "11548            13           891.0               867.0               62.0   \n",
              "11551            50             7.0                 7.0                0.0   \n",
              "11553            16            30.0                30.0                1.0   \n",
              "11554            13           870.0               842.0               77.0   \n",
              "11565            16           319.0               317.0               10.0   \n",
              "\n",
              "       Mobile_potential  City_coded  \n",
              "11548       1778.004205         772  \n",
              "11551       1899.663564         711  \n",
              "11553       1655.520125         434  \n",
              "11554       1548.507315         580  \n",
              "11565       1746.128813         202  "
            ],
            "text/html": [
              "\n",
              "  <div id=\"df-1b4fc2e4-63f6-4a9b-b0aa-9e01e0d1c6b7\">\n",
              "    <div class=\"colab-df-container\">\n",
              "      <div>\n",
              "<style scoped>\n",
              "    .dataframe tbody tr th:only-of-type {\n",
              "        vertical-align: middle;\n",
              "    }\n",
              "\n",
              "    .dataframe tbody tr th {\n",
              "        vertical-align: top;\n",
              "    }\n",
              "\n",
              "    .dataframe thead th {\n",
              "        text-align: right;\n",
              "    }\n",
              "</style>\n",
              "<table border=\"1\" class=\"dataframe\">\n",
              "  <thead>\n",
              "    <tr style=\"text-align: right;\">\n",
              "      <th></th>\n",
              "      <th>City</th>\n",
              "      <th>Customer_Flag</th>\n",
              "      <th>Revenue</th>\n",
              "      <th>Sector</th>\n",
              "      <th>Legal_Form_Code</th>\n",
              "      <th>CNT_EMPLOYEE</th>\n",
              "      <th>CNT_CB_DENSITY</th>\n",
              "      <th>CNT_CB_MOB_DENSITY</th>\n",
              "      <th>CNT_CB_FN_DENSITY</th>\n",
              "      <th>Mobile_potential</th>\n",
              "      <th>City_coded</th>\n",
              "    </tr>\n",
              "  </thead>\n",
              "  <tbody>\n",
              "    <tr>\n",
              "      <th>11548</th>\n",
              "      <td>Haar</td>\n",
              "      <td>1</td>\n",
              "      <td>4000000.0</td>\n",
              "      <td>42.0</td>\n",
              "      <td>14.0</td>\n",
              "      <td>13</td>\n",
              "      <td>891.0</td>\n",
              "      <td>867.0</td>\n",
              "      <td>62.0</td>\n",
              "      <td>1778.004205</td>\n",
              "      <td>772</td>\n",
              "    </tr>\n",
              "    <tr>\n",
              "      <th>11551</th>\n",
              "      <td>Greding</td>\n",
              "      <td>1</td>\n",
              "      <td>11780000.0</td>\n",
              "      <td>74.0</td>\n",
              "      <td>4.0</td>\n",
              "      <td>50</td>\n",
              "      <td>7.0</td>\n",
              "      <td>7.0</td>\n",
              "      <td>0.0</td>\n",
              "      <td>1899.663564</td>\n",
              "      <td>711</td>\n",
              "    </tr>\n",
              "    <tr>\n",
              "      <th>11553</th>\n",
              "      <td>Dörth</td>\n",
              "      <td>1</td>\n",
              "      <td>2050000.0</td>\n",
              "      <td>43.0</td>\n",
              "      <td>14.0</td>\n",
              "      <td>16</td>\n",
              "      <td>30.0</td>\n",
              "      <td>30.0</td>\n",
              "      <td>1.0</td>\n",
              "      <td>1655.520125</td>\n",
              "      <td>434</td>\n",
              "    </tr>\n",
              "    <tr>\n",
              "      <th>11554</th>\n",
              "      <td>Frankfurt</td>\n",
              "      <td>1</td>\n",
              "      <td>853500.0</td>\n",
              "      <td>63.0</td>\n",
              "      <td>14.0</td>\n",
              "      <td>13</td>\n",
              "      <td>870.0</td>\n",
              "      <td>842.0</td>\n",
              "      <td>77.0</td>\n",
              "      <td>1548.507315</td>\n",
              "      <td>580</td>\n",
              "    </tr>\n",
              "    <tr>\n",
              "      <th>11565</th>\n",
              "      <td>Benningen</td>\n",
              "      <td>1</td>\n",
              "      <td>10680000.0</td>\n",
              "      <td>74.0</td>\n",
              "      <td>4.0</td>\n",
              "      <td>16</td>\n",
              "      <td>319.0</td>\n",
              "      <td>317.0</td>\n",
              "      <td>10.0</td>\n",
              "      <td>1746.128813</td>\n",
              "      <td>202</td>\n",
              "    </tr>\n",
              "  </tbody>\n",
              "</table>\n",
              "</div>\n",
              "      <button class=\"colab-df-convert\" onclick=\"convertToInteractive('df-1b4fc2e4-63f6-4a9b-b0aa-9e01e0d1c6b7')\"\n",
              "              title=\"Convert this dataframe to an interactive table.\"\n",
              "              style=\"display:none;\">\n",
              "        \n",
              "  <svg xmlns=\"http://www.w3.org/2000/svg\" height=\"24px\"viewBox=\"0 0 24 24\"\n",
              "       width=\"24px\">\n",
              "    <path d=\"M0 0h24v24H0V0z\" fill=\"none\"/>\n",
              "    <path d=\"M18.56 5.44l.94 2.06.94-2.06 2.06-.94-2.06-.94-.94-2.06-.94 2.06-2.06.94zm-11 1L8.5 8.5l.94-2.06 2.06-.94-2.06-.94L8.5 2.5l-.94 2.06-2.06.94zm10 10l.94 2.06.94-2.06 2.06-.94-2.06-.94-.94-2.06-.94 2.06-2.06.94z\"/><path d=\"M17.41 7.96l-1.37-1.37c-.4-.4-.92-.59-1.43-.59-.52 0-1.04.2-1.43.59L10.3 9.45l-7.72 7.72c-.78.78-.78 2.05 0 2.83L4 21.41c.39.39.9.59 1.41.59.51 0 1.02-.2 1.41-.59l7.78-7.78 2.81-2.81c.8-.78.8-2.07 0-2.86zM5.41 20L4 18.59l7.72-7.72 1.47 1.35L5.41 20z\"/>\n",
              "  </svg>\n",
              "      </button>\n",
              "      \n",
              "  <style>\n",
              "    .colab-df-container {\n",
              "      display:flex;\n",
              "      flex-wrap:wrap;\n",
              "      gap: 12px;\n",
              "    }\n",
              "\n",
              "    .colab-df-convert {\n",
              "      background-color: #E8F0FE;\n",
              "      border: none;\n",
              "      border-radius: 50%;\n",
              "      cursor: pointer;\n",
              "      display: none;\n",
              "      fill: #1967D2;\n",
              "      height: 32px;\n",
              "      padding: 0 0 0 0;\n",
              "      width: 32px;\n",
              "    }\n",
              "\n",
              "    .colab-df-convert:hover {\n",
              "      background-color: #E2EBFA;\n",
              "      box-shadow: 0px 1px 2px rgba(60, 64, 67, 0.3), 0px 1px 3px 1px rgba(60, 64, 67, 0.15);\n",
              "      fill: #174EA6;\n",
              "    }\n",
              "\n",
              "    [theme=dark] .colab-df-convert {\n",
              "      background-color: #3B4455;\n",
              "      fill: #D2E3FC;\n",
              "    }\n",
              "\n",
              "    [theme=dark] .colab-df-convert:hover {\n",
              "      background-color: #434B5C;\n",
              "      box-shadow: 0px 1px 3px 1px rgba(0, 0, 0, 0.15);\n",
              "      filter: drop-shadow(0px 1px 2px rgba(0, 0, 0, 0.3));\n",
              "      fill: #FFFFFF;\n",
              "    }\n",
              "  </style>\n",
              "\n",
              "      <script>\n",
              "        const buttonEl =\n",
              "          document.querySelector('#df-1b4fc2e4-63f6-4a9b-b0aa-9e01e0d1c6b7 button.colab-df-convert');\n",
              "        buttonEl.style.display =\n",
              "          google.colab.kernel.accessAllowed ? 'block' : 'none';\n",
              "\n",
              "        async function convertToInteractive(key) {\n",
              "          const element = document.querySelector('#df-1b4fc2e4-63f6-4a9b-b0aa-9e01e0d1c6b7');\n",
              "          const dataTable =\n",
              "            await google.colab.kernel.invokeFunction('convertToInteractive',\n",
              "                                                     [key], {});\n",
              "          if (!dataTable) return;\n",
              "\n",
              "          const docLinkHtml = 'Like what you see? Visit the ' +\n",
              "            '<a target=\"_blank\" href=https://colab.research.google.com/notebooks/data_table.ipynb>data table notebook</a>'\n",
              "            + ' to learn more about interactive tables.';\n",
              "          element.innerHTML = '';\n",
              "          dataTable['output_type'] = 'display_data';\n",
              "          await google.colab.output.renderOutput(dataTable, element);\n",
              "          const docLink = document.createElement('div');\n",
              "          docLink.innerHTML = docLinkHtml;\n",
              "          element.appendChild(docLink);\n",
              "        }\n",
              "      </script>\n",
              "    </div>\n",
              "  </div>\n",
              "  "
            ]
          },
          "metadata": {},
          "execution_count": 13
        }
      ],
      "source": [
        "customer_dt.head()"
      ]
    },
    {
      "cell_type": "markdown",
      "metadata": {
        "id": "i5BjRBWgKLh7"
      },
      "source": [
        "[**EX5**] [**CODE**] Finally before entering in the training stage,  let's create a `final_dataset` that is the result of stacking `customer_dt`and `noncustomer_dt`considering the following variables: `City_coded`, `Revenue`, `Sector`, `Legal_Form_Code`, `CNT_EMPLOYEE`, `CNT_CB_DENSITY`, `CNT_CB_MOB_DENSITY`, `CNT_CB_FN_DENSITY`and `Mobile_potential`. The 'final_dataset' should include a new variable, `Target`, that takes value **0** for noncustomers and **1** for customers registers. The `Target` will distiguish the two classes to train the model."
      ]
    },
    {
      "cell_type": "code",
      "source": [
        "customer_dt['Target']=1\n",
        "noncustomer_dt['Target']=0"
      ],
      "metadata": {
        "id": "VfEnNT3A5HmQ"
      },
      "execution_count": 14,
      "outputs": []
    },
    {
      "cell_type": "code",
      "source": [
        "final_dt = customer_dt.append(noncustomer_dt)\n",
        "final_dt = final_dt.drop(labels = ['Customer_Flag','City'],axis = 1)\n",
        "final_dt.info()"
      ],
      "metadata": {
        "colab": {
          "base_uri": "https://localhost:8080/"
        },
        "id": "Mwwg6Q1Evi6M",
        "outputId": "2a544174-83c2-4c89-f132-1d34c47e5dde"
      },
      "execution_count": 15,
      "outputs": [
        {
          "output_type": "stream",
          "name": "stdout",
          "text": [
            "<class 'pandas.core.frame.DataFrame'>\n",
            "Int64Index: 5655 entries, 11548 to 11546\n",
            "Data columns (total 10 columns):\n",
            " #   Column              Non-Null Count  Dtype  \n",
            "---  ------              --------------  -----  \n",
            " 0   Revenue             5655 non-null   float64\n",
            " 1   Sector              5655 non-null   float64\n",
            " 2   Legal_Form_Code     5655 non-null   float64\n",
            " 3   CNT_EMPLOYEE        5655 non-null   int64  \n",
            " 4   CNT_CB_DENSITY      5655 non-null   float64\n",
            " 5   CNT_CB_MOB_DENSITY  5655 non-null   float64\n",
            " 6   CNT_CB_FN_DENSITY   5655 non-null   float64\n",
            " 7   Mobile_potential    5655 non-null   float64\n",
            " 8   City_coded          5655 non-null   int64  \n",
            " 9   Target              5655 non-null   int64  \n",
            "dtypes: float64(7), int64(3)\n",
            "memory usage: 486.0 KB\n"
          ]
        }
      ]
    },
    {
      "cell_type": "markdown",
      "metadata": {
        "id": "riT4OdRHKLiD"
      },
      "source": [
        "To measure the quality of our classifiers, it is necessary to train and test the models with different datasets. For this objective we will use [train_test_split](https://scikit-learn.org/stable/modules/generated/sklearn.model_selection.train_test_split.html) function to generate 4 new datasets: 2 for training and 2 for test: \n",
        "- `X_train`: contains all variables except `Target` for the 80% of `final_dataset`,\n",
        "- `y_train`: contains `Target`variables for the 80% of `final_dataset`, \n",
        "- `X_test`: contains all variables except `Target` for the 20% of `final_dataset`,\n",
        "- `y_test`: contains `Target`variables for the 20% of `final_dataset`."
      ]
    },
    {
      "cell_type": "code",
      "execution_count": 16,
      "metadata": {
        "id": "53-vr7DKKLiD"
      },
      "outputs": [],
      "source": [
        "X_train, X_test, y_train, y_test= train_test_split (final_dt.iloc[:,:-1], final_dt.iloc[:,-1], test_size=0.33, random_state=42) "
      ]
    },
    {
      "cell_type": "markdown",
      "metadata": {
        "id": "n-pLvA3EKLiJ"
      },
      "source": [
        "\n",
        "\n",
        "```\n",
        "# Tiene formato de código\n",
        "```\n",
        "\n",
        "[**EX6**] [**REPORT**] Calculate the lenght of `X_train` and `X_test` datasets. Is it aligned with the `test_size`value selected in the split?"
      ]
    },
    {
      "cell_type": "code",
      "source": [
        "test_size=0.33\n",
        "print('X_train size: ',X_train.size) #o X_train.info\n",
        "print('X_test size: ',X_test.size) #o y_train.info\n",
        "print('test_size: ',test_size)\n"
      ],
      "metadata": {
        "id": "G_bdLNO6Y6s9",
        "colab": {
          "base_uri": "https://localhost:8080/"
        },
        "outputId": "529dae41-abb0-4c98-a4c3-78804b980af0"
      },
      "execution_count": 17,
      "outputs": [
        {
          "output_type": "stream",
          "name": "stdout",
          "text": [
            "X_train size:  34092\n",
            "X_test size:  16803\n",
            "test_size:  0.33\n"
          ]
        }
      ]
    },
    {
      "cell_type": "markdown",
      "metadata": {
        "id": "0Doge9L_KLiM"
      },
      "source": [
        "[**EX7**] [**REPORT**] Draw the histograms of `y_train`and `y_test`. Is the dataset balanced (similar number of rows for each class or Target) or imbalanced ? How do you think it could affect to quality of the classifier?"
      ]
    },
    {
      "cell_type": "code",
      "source": [
        "y_train.plot.hist()#Target\n"
      ],
      "metadata": {
        "id": "tEx4g0d2-QGc",
        "colab": {
          "base_uri": "https://localhost:8080/",
          "height": 282
        },
        "outputId": "32cf27e0-0d77-44e2-e7ef-1aba437551a1"
      },
      "execution_count": 18,
      "outputs": [
        {
          "output_type": "execute_result",
          "data": {
            "text/plain": [
              "<matplotlib.axes._subplots.AxesSubplot at 0x7f1f1b5ab750>"
            ]
          },
          "metadata": {},
          "execution_count": 18
        },
        {
          "output_type": "display_data",
          "data": {
            "text/plain": [
              "<Figure size 432x288 with 1 Axes>"
            ],
            "image/png": "[encoded data removed]"
          },
          "metadata": {
            "needs_background": "light"
          }
        }
      ]
    },
    {
      "cell_type": "code",
      "source": [
        "y_test.plot.hist()#Target"
      ],
      "metadata": {
        "colab": {
          "base_uri": "https://localhost:8080/",
          "height": 282
        },
        "id": "7s78h8ZDfFPz",
        "outputId": "fec3621c-0c7a-4f4a-f37d-2d59fbce7381"
      },
      "execution_count": 19,
      "outputs": [
        {
          "output_type": "execute_result",
          "data": {
            "text/plain": [
              "<matplotlib.axes._subplots.AxesSubplot at 0x7f1f1b550510>"
            ]
          },
          "metadata": {},
          "execution_count": 19
        },
        {
          "output_type": "display_data",
          "data": {
            "text/plain": [
              "<Figure size 432x288 with 1 Axes>"
            ],
            "image/png": "[encoded data removed]"
          },
          "metadata": {
            "needs_background": "light"
          }
        }
      ]
    },
    {
      "cell_type": "markdown",
      "metadata": {
        "id": "pVofh0d-KLiT"
      },
      "source": [
        "# 2. Model Training: from baseline models to ensemble¶"
      ]
    },
    {
      "cell_type": "markdown",
      "metadata": {
        "id": "P58EvGU1KLiT"
      },
      "source": [
        "Now we are ready to enter in the training stage of the machine learning models. The common way to procedure is starting with baseline models (i.e. SVM, Decision Trees, Naive Bayes, etc....) and later, try to improve it adjusting hyperparameters of the models or creating more complex models architectures as ensembles."
      ]
    },
    {
      "cell_type": "markdown",
      "metadata": {
        "id": "hKyfjGlmKLiU"
      },
      "source": [
        "## 2.1. Baseline of models: Training and evaluation"
      ]
    },
    {
      "cell_type": "markdown",
      "metadata": {
        "id": "eWN0sijJKLiU"
      },
      "source": [
        "In the following section we are training a SVM, Decision Tree and Naive Bayes algorithms. To do it, we will use the `X_train`and `y_train`datasets.\n",
        "Later on we will evaluate the performance (i.e. **accuracy**, **confusion matrix**, **recall** and **precision**) of each model with the `test`dataset, i.e. `X_test`and `y_test`.\n",
        "\n",
        "\n",
        "Tip 1: You may use [classification_report()](https://scikit-learn.org/stable/modules/generated/sklearn.metrics.classification_report.html) from Sklearn library to calculate the **precision**, **recall** of the model.\n",
        "\n",
        "Tip 2: You may use [confusion_matrix()](https://scikit-learn.org/stable/modules/generated/sklearn.metrics.confusion_matrix.html) from Sklearn library to calculate the confusion matrix of a model.\n",
        "\n",
        "Tip 3: When using Sklearn library, you may use the function **.score(X_test, y_test)** to calculate the accuracy value."
      ]
    },
    {
      "cell_type": "markdown",
      "metadata": {
        "id": "2zQCoC5JKLiV"
      },
      "source": [
        "### Classification with a SVM model"
      ]
    },
    {
      "cell_type": "markdown",
      "metadata": {
        "id": "VnWGf-D6KLiV"
      },
      "source": [
        "[**EX8**] [**CODE**] Train the SVM classifier of the Sklearn library. Evaluate the following metrics for kernel=\"rbf\":\n",
        "- Which is **precision**, **recall** and **accuracy** of the algorithm?\n",
        "- Which is the **confusion matrix**?\n",
        "- Is the algorithm classifying both classes (Target=0 and Target=1) in a similar way? Why?\n",
        "- Compare the **precision** and **recall** of the **training** dataset (i.e.`X_train`and `y_train`) vs the **test** dataset (i.e. `X_test`and `y_test`). Which is better? Why? Which is the correct measure to estimate the performance for other unseen datasets? Why?"
      ]
    },
    {
      "cell_type": "code",
      "source": [
        "model = SVC()\n",
        "model.fit(X_train,y_train)\n",
        "y_pred_test = model.predict(X_test)\n",
        "y_pred_train = model.predict(X_train)\n",
        "result = model.score(X_test,y_test)\n",
        "\n",
        "print('Accuracy in test: ',result)\n",
        "print('')\n",
        "print('Train report: ',classification_report(y_train,y_pred_train))\n",
        "print('Test report: ',classification_report(y_test,y_pred_test))\n",
        "print(confusion_matrix(y_test,y_pred_test))\n"
      ],
      "metadata": {
        "colab": {
          "base_uri": "https://localhost:8080/"
        },
        "id": "gkGDtEy3fXHB",
        "outputId": "903e5973-a718-4819-e042-9b81128bbeb3"
      },
      "execution_count": 20,
      "outputs": [
        {
          "output_type": "stream",
          "name": "stdout",
          "text": [
            "Accuracy in test:  0.8344938403856454\n",
            "\n",
            "Train report:                precision    recall  f1-score   support\n",
            "\n",
            "           0       0.87      1.00      0.93      3280\n",
            "           1       1.00      0.01      0.02       508\n",
            "\n",
            "    accuracy                           0.87      3788\n",
            "   macro avg       0.93      0.50      0.47      3788\n",
            "weighted avg       0.88      0.87      0.81      3788\n",
            "\n",
            "Test report:                precision    recall  f1-score   support\n",
            "\n",
            "           0       0.83      1.00      0.91      1553\n",
            "           1       1.00      0.02      0.03       314\n",
            "\n",
            "    accuracy                           0.83      1867\n",
            "   macro avg       0.92      0.51      0.47      1867\n",
            "weighted avg       0.86      0.83      0.76      1867\n",
            "\n",
            "[[1553    0]\n",
            " [ 309    5]]\n"
          ]
        }
      ]
    },
    {
      "cell_type": "markdown",
      "source": [
        "Veiem que l'algoritme està classificant els dos targets 0 i 1 de diferent manera, ja que els target=0 els classifica amb molta més precisió i recall.\n",
        "Si comparem la precisió i el recall dels datasets de training i test, veiem que els dos són gairebé iguals, però el training dataset té més precisió amb els targets que són 0, per tant serà millor. La mesura correcta per estimar la performance d'altres datasets que no hem vist és dividir el dataset. "
      ],
      "metadata": {
        "id": "-L2N21KqVr_O"
      }
    },
    {
      "cell_type": "markdown",
      "metadata": {
        "id": "jBTK-h4cKLiY"
      },
      "source": [
        "### Classification with a Decision Tree model"
      ]
    },
    {
      "cell_type": "markdown",
      "metadata": {
        "id": "DMRkY9uvKLiY"
      },
      "source": [
        "[**EX9**] [**CODE**] Train the Decision Tree algorithm from Sklearn library. Evaluate the following metrics:\n",
        "- Which is **precision**, **recall** and **accuracy** of the algorithm?\n",
        "- Which is the **confusion matrix**?\n",
        "- Is Decision Tree algorithm working better than SVM? Why?"
      ]
    },
    {
      "cell_type": "code",
      "source": [
        "model = DecisionTreeClassifier()\n",
        "model.fit(X_train, y_train)\n",
        "y_pred_test = model.predict(X_test)\n",
        "y_pred_train = model.predict(X_train)\n",
        "result = model.score(X_test,y_test)\n",
        "\n",
        "print('Accuracy in test: ',result)\n",
        "print('')\n",
        "print('Train report: ',classification_report(y_train,y_pred_train))\n",
        "print('Test report: ',classification_report(y_test,y_pred_test))\n",
        "print(confusion_matrix(y_test,y_pred_test))\n"
      ],
      "metadata": {
        "colab": {
          "base_uri": "https://localhost:8080/"
        },
        "id": "Wts-rI6phgSs",
        "outputId": "7ab1d75a-993b-417e-e6d6-fb68d3532175"
      },
      "execution_count": 21,
      "outputs": [
        {
          "output_type": "stream",
          "name": "stdout",
          "text": [
            "Accuracy in test:  0.7562935190144617\n",
            "\n",
            "Train report:                precision    recall  f1-score   support\n",
            "\n",
            "           0       1.00      1.00      1.00      3280\n",
            "           1       1.00      1.00      1.00       508\n",
            "\n",
            "    accuracy                           1.00      3788\n",
            "   macro avg       1.00      1.00      1.00      3788\n",
            "weighted avg       1.00      1.00      1.00      3788\n",
            "\n",
            "Test report:                precision    recall  f1-score   support\n",
            "\n",
            "           0       0.86      0.84      0.85      1553\n",
            "           1       0.29      0.32      0.31       314\n",
            "\n",
            "    accuracy                           0.76      1867\n",
            "   macro avg       0.58      0.58      0.58      1867\n",
            "weighted avg       0.76      0.76      0.76      1867\n",
            "\n",
            "[[1312  241]\n",
            " [ 214  100]]\n"
          ]
        }
      ]
    },
    {
      "cell_type": "markdown",
      "source": [
        "Veiem que l'algoritme de Decision Tree funciona molt millor que l'SVM, ja que ara tenim molta més precisió i recall a la classificació, sobretot al training dataset."
      ],
      "metadata": {
        "id": "7l2OKMHoZPuq"
      }
    },
    {
      "cell_type": "markdown",
      "metadata": {
        "id": "VxSee22YKLiy"
      },
      "source": [
        "### Comparing algorithm consistenly: KFold cross-validation"
      ]
    },
    {
      "cell_type": "markdown",
      "metadata": {
        "id": "K-n_MHhvKLiz"
      },
      "source": [
        "When we are looking for the best algorithm to classify a dataset, it is very useful to compare all of them. Besides, to protect the training from **overfitting** and calculate the performance with less variance than a single train-test split, it is uselful to apply **K-Fold cross-validation**. The way that KFolds works is splitting the dataset into k-parts or **fold** (e.g. k = 3, 5 or k = 10). The algorithm is trained on k − 1 folds with one held back and tested on the held back fold."
      ]
    },
    {
      "cell_type": "markdown",
      "metadata": {
        "id": "23xG-yXNKLiz"
      },
      "source": [
        "[**EX10**] [**CODE**] Train a SVM and Decision Tree algorithms using a KFold cross-validation with **k=5** and calculate the **mean** and **standard deviation** of the **accuracy**. Plot a boxplot of the accuracy for every model. Which is the model with better mean value of the accuracy? Which is the algorithm with less deviation on the accuracy?  \n",
        "\n",
        "Tip 1: You may use [KFold](https://scikit-learn.org/stable/modules/generated/sklearn.model_selection.KFold.html) to apply cross-validation."
      ]
    },
    {
      "cell_type": "code",
      "source": [
        "#Models definition\n",
        "models=[]\n",
        "models.append(('SVM', SVC()))\n",
        "models.append(('Decision_trees', DecisionTreeClassifier()))\n",
        "#Evaluate each models\n",
        "results=[]\n",
        "names=[]\n",
        "scoring_metric='accuracy'\n",
        "for name_model, model in models:\n",
        "    kfold = KFold(n_splits = 5 ,shuffle = True, random_state = 10)\n",
        "    cv_results=cross_val_score(model, X_train, y_train, cv=5, scoring=scoring_metric)\n",
        "    results.append(cv_results)\n",
        "    names.append(name_model)\n",
        "    print (\"Model\", name_model, \"with accuracy (mean):\", cv_results.mean(), \"and accuracy (std):\", cv_results.std())"
      ],
      "metadata": {
        "colab": {
          "base_uri": "https://localhost:8080/"
        },
        "id": "n_nsdBOWoZFP",
        "outputId": "80f34945-4ef6-4e8c-cb69-9e8e1d7ed468"
      },
      "execution_count": 22,
      "outputs": [
        {
          "output_type": "stream",
          "name": "stdout",
          "text": [
            "Model SVM with accuracy (mean): 0.8658926536146364 and accuracy (std): 0.0005600726626301483\n",
            "Model Decision_trees with accuracy (mean): 0.7663631959233608 and accuracy (std): 0.020676689442577334\n"
          ]
        }
      ]
    },
    {
      "cell_type": "markdown",
      "metadata": {
        "id": "_aEAtktzKLi2"
      },
      "source": [
        "The output of the boxplots should look like this:"
      ]
    },
    {
      "cell_type": "code",
      "execution_count": 23,
      "metadata": {
        "id": "bynq6I3OKLi3",
        "outputId": "b8f50119-9bcf-40d6-a26e-208389932f78",
        "scrolled": true,
        "colab": {
          "base_uri": "https://localhost:8080/",
          "height": 295
        }
      },
      "outputs": [
        {
          "output_type": "display_data",
          "data": {
            "text/plain": [
              "<Figure size 432x288 with 1 Axes>"
            ],
            "image/png": "[encoded data removed]"
          },
          "metadata": {
            "needs_background": "light"
          }
        }
      ],
      "source": [
        "#boxplot for algorithm comparison\n",
        "fig=pyplot.figure()\n",
        "fig.suptitle (\"Algorithm accuracy comparison\")\n",
        "ax=fig.add_subplot(111)\n",
        "pyplot.boxplot(results)\n",
        "ax.set_xticklabels(names)\n",
        "pyplot.show()"
      ]
    },
    {
      "cell_type": "markdown",
      "source": [
        "El model amb millor valor mitjà d'accuracy és l'SVM. L'algoritme amb menys desviació en l'accuracy és també l'SVM."
      ],
      "metadata": {
        "id": "Frej67tla2N4"
      }
    },
    {
      "cell_type": "markdown",
      "metadata": {
        "id": "5h_URjohKLi6"
      },
      "source": [
        "## 2.2 Improving the model"
      ]
    },
    {
      "cell_type": "markdown",
      "metadata": {
        "id": "zDgLSJn_KLi7"
      },
      "source": [
        "As we observe from the baseline models, even though the accuracy is over 70% the classifiers don't distinguish properly both classes, i.e. **Target=1** and **Target=0**.  \n",
        "In this scenario, we should apply another strategies to improve the perfomance. There are several options: from adjusting the balance of the classes or doing the fine tuning of the hyperparameters of the models (for instance the type of kernel in SVM or the minimum number of samples per leaf in Decision Tree) to combine differents models to create ensembles.\n",
        "In this section, we will evaluate our classifiers in two ways:\n",
        "- Forcing the balancing of both classes\n",
        "- Building ensembles of models"
      ]
    },
    {
      "cell_type": "markdown",
      "metadata": {
        "id": "0xGX62GJKLi8"
      },
      "source": [
        "### Balancing the dataset"
      ]
    },
    {
      "cell_type": "markdown",
      "metadata": {
        "id": "7HL7D2DvKLi8"
      },
      "source": [
        "Let's check the type of balancing we have in our training and test datasets."
      ]
    },
    {
      "cell_type": "markdown",
      "metadata": {
        "id": "EV6OfIKgKLi9"
      },
      "source": [
        "[**EX11**][**CODE**] Split the previous `final_dataset`in two datasets: `customer_dt` for class 1 and `noncustomer_dt`for class 0. Calculate the number of samples for the **customers** class (i.e. Target=1) and for the **noncustomers** class (i.e. Target=0). Is the `final_dataset`balanced or imbalanced? Explain two options to match both datasets.\n"
      ]
    },
    {
      "cell_type": "code",
      "source": [
        "customer_dt = final_dt.loc[final_dt['Target'] == 1]\n",
        "noncustomer_dt = final_dt.loc[final_dt['Target'] == 0]\n",
        "\n",
        "print('customer_dt size: ', len(customer_dt))   \n",
        "print('noncustomer_dt size: ', len(noncustomer_dt))\n",
        "print('')\n",
        "print('No estan balancejats, noncustomer te moltes mes entrades que customer')\n",
        "print('Les dues opcions per balancejar els datasets serien augmentar el més petit (potser fent boostrap) o reduïr el més gran (fent sampling')"
      ],
      "metadata": {
        "colab": {
          "base_uri": "https://localhost:8080/"
        },
        "id": "Akxt-8rAziHn",
        "outputId": "fdb0d040-206a-42d4-ae1c-2a995d48823b"
      },
      "execution_count": 24,
      "outputs": [
        {
          "output_type": "stream",
          "name": "stdout",
          "text": [
            "customer_dt size:  822\n",
            "noncustomer_dt size:  4833\n",
            "\n",
            "No estan balancejats, noncustomer te moltes mes entrades que customer\n",
            "Les dues opcions per balancejar els datasets serien augmentar el més petit (potser fent boostrap) o reduïr el més gran (fent sampling\n"
          ]
        }
      ]
    },
    {
      "cell_type": "markdown",
      "metadata": {
        "id": "w9rVOQ5iKLjD"
      },
      "source": [
        "Let's undersample the `noncustomer_dt` to balance both datasets:"
      ]
    },
    {
      "cell_type": "code",
      "execution_count": 25,
      "metadata": {
        "id": "8a9L5o8iKLjE",
        "outputId": "1117d9d2-c83f-4fb4-ea0f-3142952167ae",
        "colab": {
          "base_uri": "https://localhost:8080/"
        }
      },
      "outputs": [
        {
          "output_type": "stream",
          "name": "stdout",
          "text": [
            "The new number of samples in noncustomer dataset is: 840\n"
          ]
        }
      ],
      "source": [
        "noncustomer_dt_sample=noncustomer_dt.sample(840)\n",
        "print(\"The new number of samples in noncustomer dataset is:\", len(noncustomer_dt_sample))"
      ]
    },
    {
      "cell_type": "markdown",
      "metadata": {
        "id": "P2l66X4jKLjG"
      },
      "source": [
        "If we append both datasets, the **customer_dt** and the **noncustomer_dt_sample**, the new `final_dataset`looks like:"
      ]
    },
    {
      "cell_type": "code",
      "execution_count": 26,
      "metadata": {
        "id": "C0WTasz3KLjH",
        "outputId": "986ef6e4-4c15-4e62-ac36-b8dbc2f7f54e",
        "colab": {
          "base_uri": "https://localhost:8080/",
          "height": 282
        }
      },
      "outputs": [
        {
          "output_type": "execute_result",
          "data": {
            "text/plain": [
              "<matplotlib.axes._subplots.AxesSubplot at 0x7f1f1b41d2d0>"
            ]
          },
          "metadata": {},
          "execution_count": 26
        },
        {
          "output_type": "display_data",
          "data": {
            "text/plain": [
              "<Figure size 432x288 with 1 Axes>"
            ],
            "image/png": "[encoded data removed]"
          },
          "metadata": {
            "needs_background": "light"
          }
        }
      ],
      "source": [
        "final_dataset=customer_dt.append(noncustomer_dt_sample).reset_index().drop('index', axis=1)\n",
        "final_dataset=final_dataset.loc[:,['City_coded', 'Revenue', 'Sector', 'Legal_Form_Code', 'CNT_EMPLOYEE', 'CNT_CB_DENSITY',\n",
        "                            'CNT_CB_MOB_DENSITY', 'CNT_CB_FN_DENSITY', 'Mobile_potential','Target']]\n",
        "final_dataset.Target.hist()"
      ]
    },
    {
      "cell_type": "markdown",
      "metadata": {
        "id": "ZQ0HyRiOKLjJ"
      },
      "source": [
        "[**EX12**][**CODE**][**REPORT**] Train a SVC and Decision Tree algorithm with the new `final_dataset`. Evaluate the **recall**, **precision** and **confusion matrix** of all 3 models.\n",
        "- Which has better accuracy?\n",
        "- Which is the model with better recall? And accuracy?\n",
        "- Which model you recommend to classify both classes? Justify your answer"
      ]
    },
    {
      "cell_type": "code",
      "source": [
        "\n",
        "X_train, X_test, y_train, y_test= train_test_split (final_dataset.iloc[:,:-1], final_dataset.iloc[:,-1], test_size=0.3, random_state=42) \n",
        "\n",
        "model = SVC()\n",
        "model.fit(X_train, y_train)\n",
        "y_pred_test = model.predict(X_test)\n",
        "y_pred_train = model.predict(X_train)\n",
        "result = model.score(X_test,y_test)\n",
        "print('------------SVM---------------------')\n",
        "print('Accuracy in test: ',result)\n",
        "print('')\n",
        "print('Train report: ',classification_report(y_train,y_pred_train))\n",
        "print('Test report: ',classification_report(y_test,y_pred_test))\n",
        "print(confusion_matrix(y_test,y_pred_test))\n",
        "\n",
        "model = DecisionTreeClassifier()\n",
        "model.fit(X_train, y_train)\n",
        "y_pred_test = model.predict(X_test)\n",
        "y_pred_train = model.predict(X_train)\n",
        "result = model.score(X_test,y_test)\n",
        "print('------------DECISION-TREE---------------------')\n",
        "print('Accuracy in test: ',result)\n",
        "print('')\n",
        "print('Train report: ',classification_report(y_train,y_pred_train))\n",
        "print('Test report: ',classification_report(y_test,y_pred_test))\n",
        "print(confusion_matrix(y_test,y_pred_test))\n",
        "print('')\n",
        "print('------------KFOLD---------------------')\n",
        "#Models definition\n",
        "models=[]\n",
        "models.append(('SVM', SVC()))\n",
        "models.append(('Decision_trees', DecisionTreeClassifier()))\n",
        "#Evaluate each models\n",
        "results=[]\n",
        "names=[]\n",
        "scoring_metric='accuracy'\n",
        "for name_model, model in models:\n",
        "    kfold = KFold(n_splits = 5 ,shuffle = True, random_state = 10)\n",
        "    cv_results=cross_val_score(model, X_train, y_train, cv=5, scoring=scoring_metric)\n",
        "    results.append(cv_results)\n",
        "    names.append(name_model)\n",
        "    print (\"Model\", name_model, \"with accuracy (mean):\", cv_results.mean(), \"and accuracy (std):\", cv_results.std())\n",
        "\n"
      ],
      "metadata": {
        "colab": {
          "base_uri": "https://localhost:8080/"
        },
        "id": "yHGnn9UF1A1c",
        "outputId": "d96c0802-763b-4578-8caa-f538a3769ff7"
      },
      "execution_count": 27,
      "outputs": [
        {
          "output_type": "stream",
          "name": "stdout",
          "text": [
            "------------SVM---------------------\n",
            "Accuracy in test:  0.5551102204408818\n",
            "\n",
            "Train report:                precision    recall  f1-score   support\n",
            "\n",
            "           0       0.52      0.64      0.57       581\n",
            "           1       0.54      0.42      0.47       582\n",
            "\n",
            "    accuracy                           0.53      1163\n",
            "   macro avg       0.53      0.53      0.52      1163\n",
            "weighted avg       0.53      0.53      0.52      1163\n",
            "\n",
            "Test report:                precision    recall  f1-score   support\n",
            "\n",
            "           0       0.56      0.63      0.60       259\n",
            "           1       0.54      0.47      0.50       240\n",
            "\n",
            "    accuracy                           0.56       499\n",
            "   macro avg       0.55      0.55      0.55       499\n",
            "weighted avg       0.55      0.56      0.55       499\n",
            "\n",
            "[[164  95]\n",
            " [127 113]]\n",
            "------------DECISION-TREE---------------------\n",
            "Accuracy in test:  0.5971943887775552\n",
            "\n",
            "Train report:                precision    recall  f1-score   support\n",
            "\n",
            "           0       1.00      1.00      1.00       581\n",
            "           1       1.00      1.00      1.00       582\n",
            "\n",
            "    accuracy                           1.00      1163\n",
            "   macro avg       1.00      1.00      1.00      1163\n",
            "weighted avg       1.00      1.00      1.00      1163\n",
            "\n",
            "Test report:                precision    recall  f1-score   support\n",
            "\n",
            "           0       0.62      0.58      0.60       259\n",
            "           1       0.58      0.61      0.59       240\n",
            "\n",
            "    accuracy                           0.60       499\n",
            "   macro avg       0.60      0.60      0.60       499\n",
            "weighted avg       0.60      0.60      0.60       499\n",
            "\n",
            "[[151 108]\n",
            " [ 93 147]]\n",
            "\n",
            "------------KFOLD---------------------\n",
            "Model SVM with accuracy (mean): 0.5004550836169898 and accuracy (std): 0.017999605219097863\n",
            "Model Decision_trees with accuracy (mean): 0.5597602486310493 and accuracy (std): 0.018489599333044813\n"
          ]
        }
      ]
    },
    {
      "cell_type": "markdown",
      "metadata": {
        "id": "So2hzc-BKLjU"
      },
      "source": [
        "### Ensembling models"
      ]
    },
    {
      "cell_type": "markdown",
      "metadata": {
        "id": "7GbOE6CMKLjU"
      },
      "source": [
        "Another mechanism to improve the performance of a classifier is to combine several algorithms. The three most popular methods for combining models are:\n",
        "- Bagging combines multiple models that are trained with different subsamples of the training dataset.\n",
        "- Boosting combines multiple models in cascade and each of them learns to fix the prediction errors of the prior model.\n",
        "- Voting combines statistically the output of several models.\n",
        "\n",
        "Usually Bagging and Boosting are formed by models of the same type meanwhile voting could be formed by different models."
      ]
    },
    {
      "cell_type": "markdown",
      "metadata": {
        "id": "NgkK3L4xKLjV"
      },
      "source": [
        "### Voting ensemble"
      ]
    },
    {
      "cell_type": "markdown",
      "metadata": {
        "id": "24SsOU59KLjW"
      },
      "source": [
        "[**EX13**][**CODE**][**REPORT**] Build a **voting** ensemble formed by a SVM and Decision Tree and train it with the balanced training dataset. Calculate the **precision**, **recall** and **confusion matrix** of the new classifier. Is it better than any of the previous baseline models? Justify your answer.\n",
        "\n",
        "Tip: You may use [VotingClassifier()](https://scikit-learn.org/stable/modules/generated/sklearn.ensemble.VotingClassifier.html) to build this type of ensemble."
      ]
    },
    {
      "cell_type": "code",
      "source": [
        "SVM = SVC()\n",
        "Tree = DecisionTreeClassifier()\n",
        "\n",
        "model = VotingClassifier([('svm', SVM), ('tree', Tree)], voting = 'hard')\n",
        "model.fit(X_train,y_train)\n",
        "y_pred_test = model.predict(X_test)\n",
        "y_pred_train = model.predict(X_train)\n",
        "result = model.score(X_test,y_test)\n",
        "print('------------VOTING-CLASSIFIER---------------------')\n",
        "print('Accuracy in test: ',result)\n",
        "print('')\n",
        "print('Train report: ',classification_report(y_train,y_pred_train))\n",
        "print('Test report: ',classification_report(y_test,y_pred_test))\n",
        "print(confusion_matrix(y_test,y_pred_test))\n"
      ],
      "metadata": {
        "colab": {
          "base_uri": "https://localhost:8080/"
        },
        "id": "gWv075Qq5R3h",
        "outputId": "66194a42-e78f-474c-bc03-3d2e12f09951"
      },
      "execution_count": 28,
      "outputs": [
        {
          "output_type": "stream",
          "name": "stdout",
          "text": [
            "------------VOTING-CLASSIFIER---------------------\n",
            "Accuracy in test:  0.5731462925851704\n",
            "\n",
            "Train report:                precision    recall  f1-score   support\n",
            "\n",
            "           0       0.63      1.00      0.78       581\n",
            "           1       1.00      0.42      0.59       582\n",
            "\n",
            "    accuracy                           0.71      1163\n",
            "   macro avg       0.82      0.71      0.68      1163\n",
            "weighted avg       0.82      0.71      0.68      1163\n",
            "\n",
            "Test report:                precision    recall  f1-score   support\n",
            "\n",
            "           0       0.56      0.84      0.67       259\n",
            "           1       0.62      0.28      0.39       240\n",
            "\n",
            "    accuracy                           0.57       499\n",
            "   macro avg       0.59      0.56      0.53       499\n",
            "weighted avg       0.59      0.57      0.54       499\n",
            "\n",
            "[[218  41]\n",
            " [172  68]]\n"
          ]
        }
      ]
    },
    {
      "cell_type": "markdown",
      "metadata": {
        "id": "ocJiGPkJKLjY"
      },
      "source": [
        "### Bagging ensemble: Random Forest"
      ]
    },
    {
      "cell_type": "markdown",
      "metadata": {
        "id": "LQMj5ap5KLjZ"
      },
      "source": [
        "[**EX14**][**CODE**][**REPORT**] Build a **Bagging** ensemble based on Random Forest. Random Forest is considered a bagging ensemble formed by Decision Trees algorithms. Train the Random Forest with the balanced training dataset, i.e. `X_train` and `y_train`. Calculate the **precision**, **recall** and **confusion matrix** of the new classifier. Is it better than any of the previous baseline models? Justify your answer.\n",
        "\n",
        "Tip: You may use [RandomForestClassifier()](https://scikit-learn.org/stable/modules/generated/sklearn.ensemble.RandomForestClassifier.html) to build this type of ensemble."
      ]
    },
    {
      "cell_type": "code",
      "source": [
        "\n",
        "model = RandomForestClassifier(n_estimators = 100)\n",
        "model.fit(X_train,y_train)\n",
        "y_pred_test = model.predict(X_test)\n",
        "y_pred_train = model.predict(X_train)\n",
        "y_prob = model.predict_proba(X_test)\n",
        "result = model.score(X_test,y_test)\n",
        "print('------------RANDOM-FOREST-CLASSIFIER---------------------')\n",
        "print('Accuracy in test: ',result)\n",
        "print('')\n",
        "print('Train report: ',classification_report(y_train,y_pred_train))\n",
        "print('Test report: ',classification_report(y_test,y_pred_test))\n",
        "print(confusion_matrix(y_test,y_pred_test))\n",
        "\n"
      ],
      "metadata": {
        "colab": {
          "base_uri": "https://localhost:8080/"
        },
        "id": "dh7JschO5Sa6",
        "outputId": "65062112-ef3c-4806-8d99-d6bbc85193b9"
      },
      "execution_count": 29,
      "outputs": [
        {
          "output_type": "stream",
          "name": "stdout",
          "text": [
            "------------RANDOM-FOREST-CLASSIFIER---------------------\n",
            "Accuracy in test:  0.6012024048096193\n",
            "\n",
            "Train report:                precision    recall  f1-score   support\n",
            "\n",
            "           0       1.00      1.00      1.00       581\n",
            "           1       1.00      1.00      1.00       582\n",
            "\n",
            "    accuracy                           1.00      1163\n",
            "   macro avg       1.00      1.00      1.00      1163\n",
            "weighted avg       1.00      1.00      1.00      1163\n",
            "\n",
            "Test report:                precision    recall  f1-score   support\n",
            "\n",
            "           0       0.63      0.58      0.60       259\n",
            "           1       0.58      0.63      0.60       240\n",
            "\n",
            "    accuracy                           0.60       499\n",
            "   macro avg       0.60      0.60      0.60       499\n",
            "weighted avg       0.60      0.60      0.60       499\n",
            "\n",
            "[[149 110]\n",
            " [ 89 151]]\n"
          ]
        }
      ]
    },
    {
      "cell_type": "markdown",
      "metadata": {
        "id": "4G08f_aEKLjd"
      },
      "source": [
        "[**EX15**][**REPORT**] Plot the histograms of the probabilities resulting of the prediction of the Random Forest model for class 0 and class 1."
      ]
    },
    {
      "cell_type": "code",
      "source": [
        "\n",
        "pyplot.hist(y_prob,bins = 20)\n",
        "plt.show()\n"
      ],
      "metadata": {
        "colab": {
          "base_uri": "https://localhost:8080/",
          "height": 265
        },
        "id": "1GN_Fr9g5S2k",
        "outputId": "c75df1da-7d3c-4922-ea4f-fa308b429d38"
      },
      "execution_count": 30,
      "outputs": [
        {
          "output_type": "display_data",
          "data": {
            "text/plain": [
              "<Figure size 432x288 with 1 Axes>"
            ],
            "image/png": "[encoded data removed]"
          },
          "metadata": {
            "needs_background": "light"
          }
        }
      ]
    },
    {
      "cell_type": "markdown",
      "metadata": {
        "id": "K9Vbyi1lKLjg"
      },
      "source": [
        "### Boosting ensemble: Gradient Tree Boosting"
      ]
    },
    {
      "cell_type": "markdown",
      "metadata": {
        "id": "VTZvSgz8KLji"
      },
      "source": [
        "[**EX16**][**CODE**][**REPORT**] Build a **Boosting** ensemble based on Gradient Tree Boosting (GBT). There are several boosting algorithms as Adaboost, etc.  Train the GBT with the balanced training dataset, i.e. `X_train` and `y_train`. Calculate the **precision**, **recall** and **confusion matrix** of the new classifier. Is it better than any of the previous baseline models? Justify your answer.\n",
        "\n",
        "Tip: You may use [GradientBoostingClassifier](https://scikit-learn.org/stable/modules/generated/sklearn.ensemble.GradientBoostingClassifier.html) to build this type of ensemble."
      ]
    },
    {
      "cell_type": "code",
      "source": [
        "model = GradientBoostingClassifier()\n",
        "model.fit(X_train,y_train)\n",
        "y_pred_test = model.predict(X_test)\n",
        "y_pred_train = model.predict(X_train)\n",
        "y_prob = model.predict_proba(X_test)\n",
        "result = model.score(X_test,y_test)\n",
        "print('------------GRADIENT-BOOSTING-CLASSIFIER---------------------')\n",
        "print('Accuracy in test: ',result)\n",
        "print('')\n",
        "print('Train report: ',classification_report(y_train,y_pred_train))\n",
        "print('Test report: ',classification_report(y_test,y_pred_test))\n",
        "print(confusion_matrix(y_test,y_pred_test))\n"
      ],
      "metadata": {
        "colab": {
          "base_uri": "https://localhost:8080/"
        },
        "id": "gbACXig35T7x",
        "outputId": "4bdc582e-197b-4654-8438-f8b69a8c076f"
      },
      "execution_count": 31,
      "outputs": [
        {
          "output_type": "stream",
          "name": "stdout",
          "text": [
            "------------GRADIENT-BOOSTING-CLASSIFIER---------------------\n",
            "Accuracy in test:  0.6152304609218436\n",
            "\n",
            "Train report:                precision    recall  f1-score   support\n",
            "\n",
            "           0       0.81      0.77      0.79       581\n",
            "           1       0.78      0.82      0.80       582\n",
            "\n",
            "    accuracy                           0.79      1163\n",
            "   macro avg       0.80      0.79      0.79      1163\n",
            "weighted avg       0.80      0.79      0.79      1163\n",
            "\n",
            "Test report:                precision    recall  f1-score   support\n",
            "\n",
            "           0       0.65      0.56      0.60       259\n",
            "           1       0.59      0.68      0.63       240\n",
            "\n",
            "    accuracy                           0.62       499\n",
            "   macro avg       0.62      0.62      0.61       499\n",
            "weighted avg       0.62      0.62      0.61       499\n",
            "\n",
            "[[145 114]\n",
            " [ 78 162]]\n"
          ]
        }
      ]
    },
    {
      "cell_type": "markdown",
      "metadata": {
        "id": "KLwM8rn_KLjl"
      },
      "source": [
        "[**EX17**][**REPORT**] Plot the histograms of the probabilities resulting of the prediction of the GBT model for class 0 and class 1. Compare it with histogram of Random Forest. Which one classifies better from your point of view? Why? "
      ]
    },
    {
      "cell_type": "code",
      "source": [
        "pyplot.hist(y_prob,bins = 20)\n",
        "plt.show()\n"
      ],
      "metadata": {
        "colab": {
          "base_uri": "https://localhost:8080/",
          "height": 265
        },
        "id": "BhMHe10H5UdE",
        "outputId": "40b9518f-fca0-4727-df06-102269535c43"
      },
      "execution_count": 32,
      "outputs": [
        {
          "output_type": "display_data",
          "data": {
            "text/plain": [
              "<Figure size 432x288 with 1 Axes>"
            ],
            "image/png": "[encoded data removed]"
          },
          "metadata": {
            "needs_background": "light"
          }
        }
      ]
    },
    {
      "cell_type": "markdown",
      "metadata": {
        "id": "UvbS-zysKLjq"
      },
      "source": [
        "# 3. Creating a Business opportunity with Machine Learning"
      ]
    },
    {
      "cell_type": "markdown",
      "metadata": {
        "id": "oYWmrLYQKLjP"
      },
      "source": [
        "The cut-off is the **threshold of the probability of the prediction** to assign to class 0 or class 1 the prediction. If probability > cut-off, the model classifies as 1; otherwise, model classifies as 0. \n",
        "The cut-off is a value that can be adjusted to increase the recall or the precision. Usually, there is a **trade-off** between improving the recall-precision."
      ]
    },
    {
      "cell_type": "markdown",
      "metadata": {
        "id": "XBhZ9VKgKLjq"
      },
      "source": [
        "[**EX18**][**CODE**][**REPORT**] Execute the prediction for the selected model. Adjust the cutoff value to optimize the classifier if you consider necessary. How many **non customers** are you going to send to the sales managers to sell our products to them?\n",
        "\n",
        "\n"
      ]
    },
    {
      "cell_type": "code",
      "source": [
        "cutoff = 0.4\n",
        "pred = []\n",
        "for i in range(len(y_prob)):\n",
        "    if y_prob[i,1] > cutoff:\n",
        "        pred.append(1)\n",
        "    else:\n",
        "        pred.append(0)\n",
        "\n",
        "pyplot.hist(pred,bins = 40)\n",
        "\n",
        "plt.show()\n",
        "print('')\n",
        "print('Com podem veure classifiquem molts més customers que noncustomers')"
      ],
      "metadata": {
        "colab": {
          "base_uri": "https://localhost:8080/",
          "height": 300
        },
        "id": "zSNFgsZDBGSE",
        "outputId": "e140b33a-174e-4cad-9f08-2e9cfffbf1ea"
      },
      "execution_count": 33,
      "outputs": [
        {
          "output_type": "display_data",
          "data": {
            "text/plain": [
              "<Figure size 432x288 with 1 Axes>"
            ],
            "image/png": "[encoded data removed]"
          },
          "metadata": {
            "needs_background": "light"
          }
        },
        {
          "output_type": "stream",
          "name": "stdout",
          "text": [
            "\n",
            "Com podem veure classifiquem molts més customers que noncustomers\n"
          ]
        }
      ]
    },
    {
      "cell_type": "markdown",
      "metadata": {
        "id": "2OKOVuCNKLjt"
      },
      "source": [
        "Usually, Marketing department needs to know and understand the main features of the algorithms. The code below returns the importance of each feature of the `training_dataset`."
      ]
    },
    {
      "cell_type": "code",
      "execution_count": 35,
      "metadata": {
        "id": "nX4VfjM4KLjt",
        "colab": {
          "base_uri": "https://localhost:8080/"
        },
        "outputId": "b1e03ac5-07e3-4302-91b9-c5ffb6bf11b7"
      },
      "outputs": [
        {
          "output_type": "stream",
          "name": "stdout",
          "text": [
            "[['City_coded', 0.145344428042884], ['Revenue', 0.14056245908441414], ['Sector', 0.12473050079253767], ['Legal_Form_Code', 0.11274686408410259], ['CNT_EMPLOYEE', 0.049698803910417394], ['CNT_CB_DENSITY', 0.08276490623786949], ['CNT_CB_MOB_DENSITY', 0.15098567904433854], ['CNT_CB_FN_DENS', 0.03952760339601088], ['Mobile_potential', 0.15363875540742541]]\n"
          ]
        }
      ],
      "source": [
        "features=['City_coded','Revenue', 'Sector', 'Legal_Form_Code', 'CNT_EMPLOYEE', 'CNT_CB_DENSITY',\n",
        "                            'CNT_CB_MOB_DENSITY', 'CNT_CB_FN_DENS', 'Mobile_potential']\n",
        "features_values = model.feature_importances_\n",
        "features_importance=[]\n",
        "for i in range (len(features)):\n",
        "    features_importance.append([features[i],features_values[i]])\n",
        "print(features_importance)"
      ]
    },
    {
      "cell_type": "markdown",
      "metadata": {
        "id": "3gE_DYCvKLjw"
      },
      "source": [
        "[**EX19**][**CODE**][**REPORT**] Order the features by importance. Which are the top 3 features to discriminate between **non customers** and **customers**?"
      ]
    },
    {
      "cell_type": "markdown",
      "metadata": {
        "id": "-htmJrDzKLjy"
      },
      "source": [
        " [**EX20**][**REPORT**] In this project, we have used classification techniques to identify potential customers. We have adjusted the main classification parameters as cutoff, recall and precision according to the final purpose: in out case, identify **non customers** that could be interested to buy our products. Consider a new campaign focused on accelerating the sales of an **existing mobile tariff** to our customers. Answer the following questions:\n",
        "- In this case, which is the **target** variable? Which are **target=0** samples? And **target=1**?\n",
        "- As the marketing campaing is oriented to our customers we will have further information about them in our internal systems. In particular, we could add to the information of the previous section 3 new variables: data and voice consumption and mobile expense. Adding more data to the dataset may imply more computational data and cost. Would you add these 3 new variables to dataset? Justify your answer.\n",
        "- Today the mobile tariff is not very popular among our customers. Will the training dataset be balanced or unbalanced? Justify your answer.\n",
        "\n",
        "Imagine the following scatter plot (`monthly data traffic` vs `monthly voice traffic`):\n",
        "\n",
        "![<scatter_plot>](scatter_plot.png)\n",
        "- Describe in terms of `monthly data traffic` and `monthly voice traffic` the **pattern** of target 1 customers\n",
        "- Draw a plane to separate both classes\n",
        "- According to the previous plane, which are the customers to be phoned to sell the mobile tariff?\n",
        "- Could you estimate the **precision** and **recall** of the classification?"
      ]
    },
    {
      "cell_type": "markdown",
      "metadata": {
        "id": "WqGzZF61KLjy"
      },
      "source": [
        "*******"
      ]
    },
    {
      "cell_type": "markdown",
      "metadata": {
        "id": "d90P5bXGKLjz"
      },
      "source": [
        "# Deliver"
      ]
    },
    {
      "cell_type": "markdown",
      "metadata": {
        "id": "vsdxRz2aKLj0"
      },
      "source": [
        "Deliver:\n",
        "\n",
        "* A zip file containing your notebook (.ipynb file) with all the [**CODE**] parts implemented.\n",
        "* A 5-pages PDF report including all parts of this notebook marked with \"[**REPORT**]\"\n",
        "\n",
        "The report should end with the following statement: **We hereby declare that, except for the code provided by the course instructors, all of our code, report, and figures were produced by ourselves.**"
      ]
    },
    {
      "cell_type": "code",
      "execution_count": 34,
      "metadata": {
        "id": "Rwqgx07mKLj0"
      },
      "outputs": [],
      "source": [
        ""
      ]
    }
  ],
  "metadata": {
    "colab": {
      "name": "P02.ipynb",
      "provenance": []
    },
    "kernelspec": {
      "display_name": "Python 3",
      "language": "python",
      "name": "python3"
    },
    "language_info": {
      "codemirror_mode": {
        "name": "ipython",
        "version": 3
      },
      "file_extension": ".py",
      "mimetype": "text/x-python",
      "name": "python",
      "nbconvert_exporter": "python",
      "pygments_lexer": "ipython3",
      "version": "3.8.5"
    }
  },
  "nbformat": 4,
  "nbformat_minor": 0
}