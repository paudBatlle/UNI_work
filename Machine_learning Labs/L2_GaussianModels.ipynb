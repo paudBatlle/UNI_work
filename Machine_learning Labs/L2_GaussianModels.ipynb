{
  "cells": [
    {
      "cell_type": "markdown",
      "metadata": {
        "id": "SbPTLllWLXod"
      },
      "source": [
        "# <center>MACHINE LEARNING <br> <br> Problem Session 2 <br> Gaussian models</center>"
      ]
    },
    {
      "cell_type": "markdown",
      "metadata": {
        "id": "FIGZUK-LLXon"
      },
      "source": [
        "**Useful Python Functions**\n",
        "\n",
        "- `mu = np.mean(X)` returns the mean of $X$ taking each row as a sample, i.e., if $X$ is a $n\\times m$ matrix, `np.mean(X)` is a $1 \\times m$ matrix.<br>\n",
        "To compute the mean along the columns (taking each column as a sample), `np.mean(X, axis = 1)`.\n",
        "\n",
        "- `cov = np.cov(X)` returns the covariance matrix of $X$ considering each column as a sample.\n",
        "\n",
        "- `X_inv = np.linalg.inv(X)` returns the inverse of a matrix $X$.\n",
        "\n",
        "- `np.dot(A,B)` returns the dot product of $A$ and $B$ (can be matrices).\n",
        "\n",
        "- `np.arccos(a)` returns the $\\arccos$, i.e., $\\cos^{-1}$, of $a\\in [-1,1]$, i.e, an angle $\\theta$ (in radians) such that $\\cos(\\theta) = a$.\n",
        "\n",
        "- `np.linalg.svd(A)` returns the matrices $U, D$, and $V^\\top$ such that $A = UDV^\\top$.\n",
        "`u, s, vh = np.linalg.svd(A)` $\\Rightarrow$ smat = np.diag(s), A = np.dot(u, np.dot(smat, vh))\n",
        "\n",
        "- `plt.scatter(x,y)` plots the points (as dots) whose x-coordinates is given by the array $x$ and whose y-coordinates is given by $y$.\n",
        "\n",
        "- `plt.plot(x,y)` same as plt.scatter but with lines (other options are available)."
      ]
    },
    {
      "cell_type": "code",
      "execution_count": null,
      "metadata": {
        "id": "JbNsvKh9LXoq"
      },
      "outputs": [],
      "source": [
        "################################\n",
        "# NEEDED IMPORTS AND FUNCTIONS #\n",
        "################################\n",
        "\n",
        "# LLIBRERIES\n",
        "import numpy as np\n",
        "import matplotlib.pyplot as plt"
      ]
    },
    {
      "cell_type": "markdown",
      "metadata": {
        "id": "DFkP8LAsLXot"
      },
      "source": [
        "### Exercise 7\n",
        "\n",
        "1. Write a Python function that, given a mean and a covariance (in $\\mathbb{R}^2$), returns the principal directions of the Gaussian and their variances, and plots the points at Mahalanobis distance $k$ (where $k$ is given as input).\n",
        "2. Write a Python function that, given a set of points, estimates the Gaussian model from which they are drawn and plots the points, together with several (of choice) ellipses of Mahalanobis distances and the principal directions.\n",
        "3. Write a Python function that, given a Gaussian model, i.e, $\\vec{\\mu}, \\vec{\\Sigma}$, draws $n$ samples from that distribution.\n",
        "\n",
        "TIP: Use the Numpy function `np.random.multivariate_normal`."
      ]
    },
    {
      "cell_type": "code",
      "execution_count": null,
      "metadata": {
        "id": "GAUxZ8EULXov"
      },
      "outputs": [],
      "source": [
        "# 1\n",
        "def PC_and_Mhd(mu,Cov,k):\n",
        "\n",
        "    return PC, var\n",
        "\n",
        "\n",
        "# 2\n",
        "def Gaussian_model(X):\n",
        "    \n",
        "    return mu, PC, var\n",
        "\n",
        "\n",
        "# 3\n",
        "def draw_samples_from_Gaussian(mu,Cov,n):\n",
        "    \n",
        "    return X"
      ]
    },
    {
      "cell_type": "code",
      "execution_count": null,
      "metadata": {
        "id": "yc4hmznnLXow"
      },
      "outputs": [],
      "source": [
        ""
      ]
    }
  ],
  "metadata": {
    "kernelspec": {
      "display_name": "Python 3",
      "language": "python",
      "name": "python3"
    },
    "language_info": {
      "codemirror_mode": {
        "name": "ipython",
        "version": 3
      },
      "file_extension": ".py",
      "mimetype": "text/x-python",
      "name": "python",
      "nbconvert_exporter": "python",
      "pygments_lexer": "ipython3",
      "version": "3.7.3"
    },
    "colab": {
      "name": "P2_GaussianModels.ipynb",
      "provenance": [],
      "collapsed_sections": []
    }
  },
  "nbformat": 4,
  "nbformat_minor": 0
}